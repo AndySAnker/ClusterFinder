{
  "nbformat": 4,
  "nbformat_minor": 0,
  "metadata": {
    "colab": {
      "name": "fast-MotEx.ipynb",
      "provenance": [],
      "collapsed_sections": [],
      "authorship_tag": "ABX9TyMJ7REynsNCNtZR/BZL188p",
      "include_colab_link": true
    },
    "kernelspec": {
      "name": "python3",
      "display_name": "Python 3"
    },
    "language_info": {
      "name": "python"
    },
    "widgets": {
      "application/vnd.jupyter.widget-state+json": {
        "2cc7855552bf483685dd06e0c33d3265": {
          "model_module": "@jupyter-widgets/controls",
          "model_name": "HBoxModel",
          "model_module_version": "1.5.0",
          "state": {
            "_dom_classes": [],
            "_model_module": "@jupyter-widgets/controls",
            "_model_module_version": "1.5.0",
            "_model_name": "HBoxModel",
            "_view_count": null,
            "_view_module": "@jupyter-widgets/controls",
            "_view_module_version": "1.5.0",
            "_view_name": "HBoxView",
            "box_style": "",
            "children": [
              "IPY_MODEL_28ec74fd77084fef9dc8227dc994dde8",
              "IPY_MODEL_57067f70d4f447369f54efd8784c7cb2"
            ],
            "layout": "IPY_MODEL_f84fea8e6fb74a27ab621ff1523b80ae"
          }
        },
        "28ec74fd77084fef9dc8227dc994dde8": {
          "model_module": "nglview-js-widgets",
          "model_name": "NGLModel",
          "model_module_version": "3.0.1",
          "state": {
            "_camera_orientation": [
              25.63695099303209,
              0,
              0,
              0,
              0,
              25.63695099303209,
              0,
              0,
              0,
              0,
              25.63695099303209,
              0,
              -14.642000436782837,
              -14.642000436782837,
              -6.352999843657017,
              1
            ],
            "_camera_str": "orthographic",
            "_dom_classes": [],
            "_gui_theme": null,
            "_ibtn_fullscreen": "IPY_MODEL_5063f1655ba946a78c1b894594b01734",
            "_igui": null,
            "_iplayer": "IPY_MODEL_36eb870ad3c64b7a9c60971f37174bd7",
            "_model_module": "nglview-js-widgets",
            "_model_module_version": "3.0.1",
            "_model_name": "NGLModel",
            "_ngl_color_dict": {},
            "_ngl_coordinate_resource": {},
            "_ngl_full_stage_parameters": {
              "impostor": true,
              "quality": "medium",
              "workerDefault": true,
              "sampleLevel": 0,
              "backgroundColor": "white",
              "rotateSpeed": 2,
              "zoomSpeed": 1.2,
              "panSpeed": 1,
              "clipNear": 0,
              "clipFar": 100,
              "clipDist": 0,
              "fogNear": 50,
              "fogFar": 100,
              "cameraFov": 40,
              "cameraEyeSep": 0.3,
              "cameraType": "orthographic",
              "lightColor": 14540253,
              "lightIntensity": 1,
              "ambientColor": 14540253,
              "ambientIntensity": 0.2,
              "hoverTimeout": 0,
              "tooltip": true,
              "mousePreset": "default"
            },
            "_ngl_msg_archive": [
              {
                "target": "Stage",
                "type": "call_method",
                "methodName": "loadFile",
                "reconstruc_color_scheme": false,
                "args": [
                  {
                    "type": "blob",
                    "data": "MODEL     1\nATOM      1    W MOL     1      12.472  13.429   3.858  1.00  0.00           W  \nATOM      2    W MOL     1      13.820  11.206   6.456  1.00  0.00           W  \nATOM      3    W MOL     1       8.143  10.757   0.103  1.00  0.00           W  \nATOM      4    W MOL     1      13.429  16.812   8.848  1.00  0.00           W  \nATOM      5    W MOL     1      11.206  15.464   6.250  1.00  0.00           W  \nATOM      6    W MOL     1      10.757  21.141  12.603  1.00  0.00           W  \nATOM      7    W MOL     1      15.855  12.472   8.848  1.00  0.00           W  \nATOM      8    W MOL     1      18.078  13.820   6.250  1.00  0.00           W  \nATOM      9    W MOL     1      18.527   8.143  12.603  1.00  0.00           W  \nATOM     10    W MOL     1      16.812  15.855   3.858  1.00  0.00           W  \nATOM     11    W MOL     1      15.464  18.078   6.456  1.00  0.00           W  \nATOM     12    W MOL     1      21.141  18.527   0.103  1.00  0.00           W  \nATOM     13    O MOL     1      11.391  12.812  10.000  1.00  0.00           O  \nATOM     14    O MOL     1      10.572   9.151   3.647  1.00  0.00           O  \nATOM     15    O MOL     1      11.626  12.519   2.630  1.00  0.00           O  \nATOM     16    O MOL     1      10.337   9.444   8.983  1.00  0.00           O  \nATOM     17    O MOL     1      13.485   9.312   6.188  1.00  0.00           O  \nATOM     18    O MOL     1       8.478  12.651  12.541  1.00  0.00           O  \nATOM     19    O MOL     1      14.276  13.134   3.494  1.00  0.00           O  \nATOM     20    O MOL     1       7.687   8.829   9.847  1.00  0.00           O  \nATOM     21    O MOL     1      11.538  14.042   7.471  1.00  0.00           O  \nATOM     22    O MOL     1      10.425   7.921   1.118  1.00  0.00           O  \nATOM     23    O MOL     1      14.188  12.577   9.733  1.00  0.00           O  \nATOM     24    O MOL     1       7.775   9.386   3.380  1.00  0.00           O  \nATOM     25    O MOL     1      12.724  12.138   5.235  1.00  0.00           O  \nATOM     26    O MOL     1       9.239   9.825  11.588  1.00  0.00           O  \nATOM     27    O MOL     1      12.563  11.596   7.840  1.00  0.00           O  \nATOM     28    O MOL     1       9.400  10.367   1.487  1.00  0.00           O  \nATOM     29    O MOL     1      10.996  14.159   4.905  1.00  0.00           O  \nATOM     30    O MOL     1      10.967   7.804  11.258  1.00  0.00           O  \nATOM     31    O MOL     1      14.320  13.339   7.281  1.00  0.00           O  \nATOM     32    O MOL     1       7.643   8.624   0.928  1.00  0.00           O  \nATOM     33    O MOL     1      12.812  17.893   2.706  1.00  0.00           O  \nATOM     34    O MOL     1       9.151  18.712   9.059  1.00  0.00           O  \nATOM     35    O MOL     1      12.519  17.658  10.076  1.00  0.00           O  \nATOM     36    O MOL     1       9.444  18.947   3.723  1.00  0.00           O  \nATOM     37    O MOL     1       9.312  15.799   6.518  1.00  0.00           O  \nATOM     38    O MOL     1      12.651  20.806   0.165  1.00  0.00           O  \nATOM     39    O MOL     1      13.134  15.008   9.212  1.00  0.00           O  \nATOM     40    O MOL     1       8.829  21.597   2.859  1.00  0.00           O  \nATOM     41    O MOL     1      14.042  17.746   5.235  1.00  0.00           O  \nATOM     42    O MOL     1       7.921  18.859  11.588  1.00  0.00           O  \nATOM     43    O MOL     1      12.577  15.096   2.973  1.00  0.00           O  \nATOM     44    O MOL     1       9.386  21.509   9.326  1.00  0.00           O  \nATOM     45    O MOL     1      12.138  16.560   7.471  1.00  0.00           O  \nATOM     46    O MOL     1       9.825  20.045   1.118  1.00  0.00           O  \nATOM     47    O MOL     1      11.596  16.721   4.866  1.00  0.00           O  \nATOM     48    O MOL     1      10.367  19.884  11.219  1.00  0.00           O  \nATOM     49    O MOL     1      14.159  18.288   7.801  1.00  0.00           O  \nATOM     50    O MOL     1       7.804  18.317   1.448  1.00  0.00           O  \nATOM     51    O MOL     1      13.339  14.964   5.425  1.00  0.00           O  \nATOM     52    O MOL     1       8.624  21.641  11.778  1.00  0.00           O  \nATOM     53    O MOL     1      16.472  11.391   2.706  1.00  0.00           O  \nATOM     54    O MOL     1      20.133  10.572   9.059  1.00  0.00           O  \nATOM     55    O MOL     1      16.765  11.626  10.076  1.00  0.00           O  \nATOM     56    O MOL     1      19.840  10.337   3.723  1.00  0.00           O  \nATOM     57    O MOL     1      19.972  13.485   6.518  1.00  0.00           O  \nATOM     58    O MOL     1      16.633   8.478   0.165  1.00  0.00           O  \nATOM     59    O MOL     1      16.150  14.276   9.212  1.00  0.00           O  \nATOM     60    O MOL     1      20.455   7.687   2.859  1.00  0.00           O  \nATOM     61    O MOL     1      15.242  11.538   5.235  1.00  0.00           O  \nATOM     62    O MOL     1      21.363  10.425  11.588  1.00  0.00           O  \nATOM     63    O MOL     1      16.707  14.188   2.973  1.00  0.00           O  \nATOM     64    O MOL     1      19.898   7.775   9.326  1.00  0.00           O  \nATOM     65    O MOL     1      17.146  12.724   7.471  1.00  0.00           O  \nATOM     66    O MOL     1      19.459   9.239   1.118  1.00  0.00           O  \nATOM     67    O MOL     1      17.688  12.563   4.866  1.00  0.00           O  \nATOM     68    O MOL     1      18.917   9.400  11.219  1.00  0.00           O  \nATOM     69    O MOL     1      15.125  10.996   7.801  1.00  0.00           O  \nATOM     70    O MOL     1      21.480  10.967   1.448  1.00  0.00           O  \nATOM     71    O MOL     1      15.945  14.320   5.425  1.00  0.00           O  \nATOM     72    O MOL     1      20.660   7.643  11.778  1.00  0.00           O  \nATOM     73    O MOL     1      17.893  16.472  10.000  1.00  0.00           O  \nATOM     74    O MOL     1      18.712  20.133   3.647  1.00  0.00           O  \nATOM     75    O MOL     1      17.658  16.765   2.630  1.00  0.00           O  \nATOM     76    O MOL     1      18.947  19.840   8.983  1.00  0.00           O  \nATOM     77    O MOL     1      15.799  19.972   6.188  1.00  0.00           O  \nATOM     78    O MOL     1      20.806  16.633  12.541  1.00  0.00           O  \nATOM     79    O MOL     1      15.008  16.150   3.494  1.00  0.00           O  \nATOM     80    O MOL     1      21.597  20.455   9.847  1.00  0.00           O  \nATOM     81    O MOL     1      17.746  15.242   7.471  1.00  0.00           O  \nATOM     82    O MOL     1      18.859  21.363   1.118  1.00  0.00           O  \nATOM     83    O MOL     1      15.096  16.707   9.733  1.00  0.00           O  \nATOM     84    O MOL     1      21.509  19.898   3.380  1.00  0.00           O  \nATOM     85    O MOL     1      16.560  17.146   5.235  1.00  0.00           O  \nATOM     86    O MOL     1      20.045  19.459  11.588  1.00  0.00           O  \nATOM     87    O MOL     1      16.721  17.688   7.840  1.00  0.00           O  \nATOM     88    O MOL     1      19.884  18.917   1.487  1.00  0.00           O  \nATOM     89    O MOL     1      18.288  15.125   4.905  1.00  0.00           O  \nATOM     90    O MOL     1      18.317  21.480  11.258  1.00  0.00           O  \nATOM     91    O MOL     1      14.964  15.945   7.281  1.00  0.00           O  \nATOM     92    O MOL     1      21.641  20.660   0.928  1.00  0.00           O  \nENDMDL\n",
                    "binary": false
                  }
                ],
                "kwargs": {
                  "defaultRepresentation": false,
                  "ext": "pdb"
                }
              },
              {
                "target": "Widget",
                "type": "call_method",
                "methodName": "setSize",
                "reconstruc_color_scheme": false,
                "args": [
                  "500px",
                  "500px"
                ],
                "kwargs": {}
              },
              {
                "component_index": 0,
                "target": "compList",
                "type": "call_method",
                "methodName": "addRepresentation",
                "reconstruc_color_scheme": false,
                "args": [
                  "unitcell"
                ],
                "kwargs": {
                  "sele": "all"
                }
              },
              {
                "component_index": 0,
                "target": "compList",
                "type": "call_method",
                "methodName": "addRepresentation",
                "reconstruc_color_scheme": false,
                "args": [
                  "spacefill"
                ],
                "kwargs": {
                  "sele": "all"
                }
              },
              {
                "target": "Stage",
                "type": "call_method",
                "methodName": "setParameters",
                "reconstruc_color_scheme": false,
                "args": [],
                "kwargs": {
                  "cameraType": "orthographic"
                }
              },
              {
                "target": "Widget",
                "type": "call_method",
                "methodName": "setParameters",
                "reconstruc_color_scheme": false,
                "args": [
                  {
                    "clipDist": 0
                  }
                ],
                "kwargs": {}
              },
              {
                "target": "Widget",
                "type": "call_method",
                "methodName": "updateRepresentationsByName",
                "reconstruc_color_scheme": false,
                "args": [
                  "spacefill",
                  0
                ],
                "kwargs": {
                  "radiusType": "covalent",
                  "radiusScale": 0.5,
                  "colorScheme": "element",
                  "colorScale": "rainbow"
                }
              },
              {
                "target": "Widget",
                "type": "call_method",
                "methodName": "updateRepresentationsByName",
                "reconstruc_color_scheme": false,
                "args": [
                  "spacefill",
                  0
                ],
                "kwargs": {
                  "radiusType": "covalent",
                  "radiusScale": 0.5,
                  "colorScheme": "element",
                  "colorScale": "rainbow"
                }
              },
              {
                "target": "Widget",
                "type": "call_method",
                "methodName": "updateRepresentationsByName",
                "reconstruc_color_scheme": false,
                "args": [
                  "spacefill",
                  0
                ],
                "kwargs": {
                  "radiusType": "covalent",
                  "radiusScale": 0.49999999999999994,
                  "colorScheme": "element",
                  "colorScale": "rainbow"
                }
              },
              {
                "target": "Widget",
                "type": "call_method",
                "methodName": "updateRepresentationsByName",
                "reconstruc_color_scheme": false,
                "args": [
                  "spacefill",
                  0
                ],
                "kwargs": {
                  "radiusType": "covalent",
                  "radiusScale": 0.49999999999999994,
                  "colorScheme": "element",
                  "colorScale": "rainbow"
                }
              },
              {
                "target": "Widget",
                "type": "call_method",
                "methodName": "updateRepresentationsByName",
                "reconstruc_color_scheme": false,
                "args": [
                  "spacefill",
                  0
                ],
                "kwargs": {
                  "radiusType": "covalent",
                  "radiusScale": 0.49999999999999994,
                  "colorScheme": "element",
                  "colorScale": "rainbow"
                }
              },
              {
                "target": "Widget",
                "type": "call_method",
                "methodName": "updateRepresentationsByName",
                "reconstruc_color_scheme": false,
                "args": [
                  "spacefill",
                  0
                ],
                "kwargs": {
                  "radiusType": "covalent",
                  "radiusScale": 0.52,
                  "colorScheme": "element",
                  "colorScale": "rainbow"
                }
              },
              {
                "target": "Widget",
                "type": "call_method",
                "methodName": "updateRepresentationsByName",
                "reconstruc_color_scheme": false,
                "args": [
                  "spacefill",
                  0
                ],
                "kwargs": {
                  "radiusType": "covalent",
                  "radiusScale": 0.52,
                  "colorScheme": "element",
                  "colorScale": "rainbow"
                }
              },
              {
                "target": "Widget",
                "type": "call_method",
                "methodName": "updateRepresentationsByName",
                "reconstruc_color_scheme": false,
                "args": [
                  "spacefill",
                  0
                ],
                "kwargs": {
                  "radiusType": "covalent",
                  "radiusScale": 0.52,
                  "colorScheme": "element",
                  "colorScale": "rainbow"
                }
              },
              {
                "target": "Widget",
                "type": "call_method",
                "methodName": "updateRepresentationsByName",
                "reconstruc_color_scheme": false,
                "args": [
                  "spacefill",
                  0
                ],
                "kwargs": {
                  "radiusType": "covalent",
                  "radiusScale": 1.1,
                  "colorScheme": "element",
                  "colorScale": "rainbow"
                }
              },
              {
                "target": "Widget",
                "type": "call_method",
                "methodName": "updateRepresentationsByName",
                "reconstruc_color_scheme": false,
                "args": [
                  "spacefill",
                  0
                ],
                "kwargs": {
                  "radiusType": "covalent",
                  "radiusScale": 1.1,
                  "colorScheme": "element",
                  "colorScale": "rainbow"
                }
              },
              {
                "target": "Widget",
                "type": "call_method",
                "methodName": "updateRepresentationsByName",
                "reconstruc_color_scheme": false,
                "args": [
                  "spacefill",
                  0
                ],
                "kwargs": {
                  "radiusType": "covalent",
                  "radiusScale": 1.1,
                  "colorScheme": "element",
                  "colorScale": "rainbow"
                }
              },
              {
                "target": "Widget",
                "type": "call_method",
                "methodName": "updateRepresentationsByName",
                "reconstruc_color_scheme": false,
                "args": [
                  "spacefill",
                  0
                ],
                "kwargs": {
                  "radiusType": "covalent",
                  "radiusScale": 1.5,
                  "colorScheme": "element",
                  "colorScale": "rainbow"
                }
              },
              {
                "target": "Widget",
                "type": "call_method",
                "methodName": "updateRepresentationsByName",
                "reconstruc_color_scheme": false,
                "args": [
                  "spacefill",
                  0
                ],
                "kwargs": {
                  "radiusType": "covalent",
                  "radiusScale": 1.5,
                  "colorScheme": "element",
                  "colorScale": "rainbow"
                }
              },
              {
                "target": "Widget",
                "type": "call_method",
                "methodName": "updateRepresentationsByName",
                "reconstruc_color_scheme": false,
                "args": [
                  "spacefill",
                  0
                ],
                "kwargs": {
                  "radiusType": "covalent",
                  "radiusScale": 1.5,
                  "colorScheme": "element",
                  "colorScale": "rainbow"
                }
              },
              {
                "target": "Widget",
                "type": "call_method",
                "methodName": "updateRepresentationsByName",
                "reconstruc_color_scheme": false,
                "args": [
                  "spacefill",
                  0
                ],
                "kwargs": {
                  "radiusType": "covalent",
                  "radiusScale": 0.81,
                  "colorScheme": "element",
                  "colorScale": "rainbow"
                }
              },
              {
                "target": "Widget",
                "type": "call_method",
                "methodName": "updateRepresentationsByName",
                "reconstruc_color_scheme": false,
                "args": [
                  "spacefill",
                  0
                ],
                "kwargs": {
                  "radiusType": "covalent",
                  "radiusScale": 0.81,
                  "colorScheme": "element",
                  "colorScale": "rainbow"
                }
              }
            ],
            "_ngl_original_stage_parameters": {
              "impostor": true,
              "quality": "medium",
              "workerDefault": true,
              "sampleLevel": 0,
              "backgroundColor": "white",
              "rotateSpeed": 2,
              "zoomSpeed": 1.2,
              "panSpeed": 1,
              "clipNear": 0,
              "clipFar": 100,
              "clipDist": 10,
              "fogNear": 50,
              "fogFar": 100,
              "cameraFov": 40,
              "cameraEyeSep": 0.3,
              "cameraType": "perspective",
              "lightColor": 14540253,
              "lightIntensity": 1,
              "ambientColor": 14540253,
              "ambientIntensity": 0.2,
              "hoverTimeout": 0,
              "tooltip": true,
              "mousePreset": "default"
            },
            "_ngl_repr_dict": {
              "0": {
                "0": {
                  "type": "unitcell",
                  "params": {
                    "lazy": false,
                    "visible": true,
                    "quality": "medium",
                    "radiusSize": 0.5,
                    "sphereDetail": 1,
                    "radialSegments": 10,
                    "disableImpostor": false,
                    "radiusType": "vdw",
                    "radiusData": {},
                    "radiusScale": 1,
                    "defaultAssembly": "",
                    "clipNear": 0,
                    "clipRadius": 0,
                    "clipCenter": {
                      "x": 0,
                      "y": 0,
                      "z": 0
                    },
                    "flatShaded": false,
                    "opacity": 1,
                    "depthWrite": true,
                    "side": "double",
                    "wireframe": false,
                    "colorScheme": "element",
                    "colorScale": "",
                    "colorReverse": false,
                    "colorValue": "orange",
                    "colorMode": "hcl",
                    "roughness": 0.4,
                    "metalness": 0,
                    "diffuse": 16777215,
                    "diffuseInterior": false,
                    "useInteriorColor": true,
                    "interiorColor": 2236962,
                    "interiorDarkening": 0,
                    "matrix": {
                      "elements": [
                        1,
                        0,
                        0,
                        0,
                        0,
                        1,
                        0,
                        0,
                        0,
                        0,
                        1,
                        0,
                        0,
                        0,
                        0,
                        1
                      ]
                    },
                    "disablePicking": false,
                    "sele": "all"
                  }
                },
                "1": {
                  "type": "unitcell",
                  "params": {
                    "lazy": false,
                    "visible": true,
                    "quality": "medium",
                    "radiusSize": 0.5,
                    "sphereDetail": 1,
                    "radialSegments": 10,
                    "disableImpostor": false,
                    "radiusType": "vdw",
                    "radiusData": {},
                    "radiusScale": 1,
                    "defaultAssembly": "",
                    "clipNear": 0,
                    "clipRadius": 0,
                    "clipCenter": {
                      "x": 0,
                      "y": 0,
                      "z": 0
                    },
                    "flatShaded": false,
                    "opacity": 1,
                    "depthWrite": true,
                    "side": "double",
                    "wireframe": false,
                    "colorScheme": "element",
                    "colorScale": "",
                    "colorReverse": false,
                    "colorValue": "orange",
                    "colorMode": "hcl",
                    "roughness": 0.4,
                    "metalness": 0,
                    "diffuse": 16777215,
                    "diffuseInterior": false,
                    "useInteriorColor": true,
                    "interiorColor": 2236962,
                    "interiorDarkening": 0,
                    "matrix": {
                      "elements": [
                        1,
                        0,
                        0,
                        0,
                        0,
                        1,
                        0,
                        0,
                        0,
                        0,
                        1,
                        0,
                        0,
                        0,
                        0,
                        1
                      ]
                    },
                    "disablePicking": false,
                    "sele": "all"
                  }
                },
                "2": {
                  "type": "spacefill",
                  "params": {
                    "lazy": false,
                    "visible": true,
                    "quality": "medium",
                    "sphereDetail": 1,
                    "disableImpostor": false,
                    "radiusType": "covalent",
                    "radiusData": {},
                    "radiusSize": 1,
                    "radiusScale": 0.81,
                    "assembly": "default",
                    "defaultAssembly": "",
                    "clipNear": 0,
                    "clipRadius": 0,
                    "clipCenter": {
                      "x": 0,
                      "y": 0,
                      "z": 0
                    },
                    "flatShaded": false,
                    "opacity": 1,
                    "depthWrite": true,
                    "side": "double",
                    "wireframe": false,
                    "colorScheme": "element",
                    "colorScale": "rainbow",
                    "colorReverse": false,
                    "colorValue": 9474192,
                    "colorMode": "hcl",
                    "roughness": 0.4,
                    "metalness": 0,
                    "diffuse": 16777215,
                    "diffuseInterior": false,
                    "useInteriorColor": true,
                    "interiorColor": 2236962,
                    "interiorDarkening": 0,
                    "matrix": {
                      "elements": [
                        1,
                        0,
                        0,
                        0,
                        0,
                        1,
                        0,
                        0,
                        0,
                        0,
                        1,
                        0,
                        0,
                        0,
                        0,
                        1
                      ]
                    },
                    "disablePicking": false,
                    "sele": "all"
                  }
                },
                "3": {
                  "type": "spacefill",
                  "params": {
                    "lazy": false,
                    "visible": true,
                    "quality": "medium",
                    "sphereDetail": 1,
                    "disableImpostor": false,
                    "radiusType": "covalent",
                    "radiusData": {},
                    "radiusSize": 1,
                    "radiusScale": 0.81,
                    "assembly": "default",
                    "defaultAssembly": "",
                    "clipNear": 0,
                    "clipRadius": 0,
                    "clipCenter": {
                      "x": 0,
                      "y": 0,
                      "z": 0
                    },
                    "flatShaded": false,
                    "opacity": 1,
                    "depthWrite": true,
                    "side": "double",
                    "wireframe": false,
                    "colorScheme": "element",
                    "colorScale": "rainbow",
                    "colorReverse": false,
                    "colorValue": 9474192,
                    "colorMode": "hcl",
                    "roughness": 0.4,
                    "metalness": 0,
                    "diffuse": 16777215,
                    "diffuseInterior": false,
                    "useInteriorColor": true,
                    "interiorColor": 2236962,
                    "interiorDarkening": 0,
                    "matrix": {
                      "elements": [
                        1,
                        0,
                        0,
                        0,
                        0,
                        1,
                        0,
                        0,
                        0,
                        0,
                        1,
                        0,
                        0,
                        0,
                        0,
                        1
                      ]
                    },
                    "disablePicking": false,
                    "sele": "all"
                  }
                }
              },
              "1": {}
            },
            "_ngl_serialize": false,
            "_ngl_version": "2.0.0-dev.36",
            "_ngl_view_id": [
              "C644DC74-48C3-4D0E-8C44-2BEE3A11FE30"
            ],
            "_player_dict": {},
            "_scene_position": {},
            "_scene_rotation": {},
            "_synced_model_ids": [],
            "_synced_repr_model_ids": [],
            "_view_count": null,
            "_view_height": "",
            "_view_module": "nglview-js-widgets",
            "_view_module_version": "3.0.1",
            "_view_name": "NGLView",
            "_view_width": "",
            "background": "white",
            "frame": 0,
            "gui_style": null,
            "layout": "IPY_MODEL_60eb5ebc8e434e6784cc1c258940dd50",
            "max_frame": 0,
            "n_components": 2,
            "picked": {}
          }
        },
        "57067f70d4f447369f54efd8784c7cb2": {
          "model_module": "@jupyter-widgets/controls",
          "model_name": "VBoxModel",
          "model_module_version": "1.5.0",
          "state": {
            "_dom_classes": [],
            "_model_module": "@jupyter-widgets/controls",
            "_model_module_version": "1.5.0",
            "_model_name": "VBoxModel",
            "_view_count": null,
            "_view_module": "@jupyter-widgets/controls",
            "_view_module_version": "1.5.0",
            "_view_name": "VBoxView",
            "box_style": "",
            "children": [
              "IPY_MODEL_30f934e26e5e4c949edb6149e8a5f97b",
              "IPY_MODEL_2c5c89320ab8429daba3cf018d7f0caf",
              "IPY_MODEL_71ccac6139ee430687ffafcadb2dcd6b"
            ],
            "layout": "IPY_MODEL_1af92651d3b0487d9eac99892becb02a"
          }
        },
        "f84fea8e6fb74a27ab621ff1523b80ae": {
          "model_module": "@jupyter-widgets/base",
          "model_name": "LayoutModel",
          "model_module_version": "1.2.0",
          "state": {
            "_model_module": "@jupyter-widgets/base",
            "_model_module_version": "1.2.0",
            "_model_name": "LayoutModel",
            "_view_count": null,
            "_view_module": "@jupyter-widgets/base",
            "_view_module_version": "1.2.0",
            "_view_name": "LayoutView",
            "align_content": null,
            "align_items": null,
            "align_self": null,
            "border": null,
            "bottom": null,
            "display": null,
            "flex": null,
            "flex_flow": null,
            "grid_area": null,
            "grid_auto_columns": null,
            "grid_auto_flow": null,
            "grid_auto_rows": null,
            "grid_column": null,
            "grid_gap": null,
            "grid_row": null,
            "grid_template_areas": null,
            "grid_template_columns": null,
            "grid_template_rows": null,
            "height": null,
            "justify_content": null,
            "justify_items": null,
            "left": null,
            "margin": null,
            "max_height": null,
            "max_width": null,
            "min_height": null,
            "min_width": null,
            "object_fit": null,
            "object_position": null,
            "order": null,
            "overflow": null,
            "overflow_x": null,
            "overflow_y": null,
            "padding": null,
            "right": null,
            "top": null,
            "visibility": null,
            "width": null
          }
        },
        "30f934e26e5e4c949edb6149e8a5f97b": {
          "model_module": "@jupyter-widgets/controls",
          "model_name": "DropdownModel",
          "model_module_version": "1.5.0",
          "state": {
            "_dom_classes": [],
            "_model_module": "@jupyter-widgets/controls",
            "_model_module_version": "1.5.0",
            "_model_name": "DropdownModel",
            "_options_labels": [
              "All",
              "W",
              "O"
            ],
            "_view_count": null,
            "_view_module": "@jupyter-widgets/controls",
            "_view_module_version": "1.5.0",
            "_view_name": "DropdownView",
            "description": "Show",
            "description_tooltip": null,
            "disabled": false,
            "index": 0,
            "layout": "IPY_MODEL_6f6fb0722bfe4645a64f10c93944e838",
            "style": "IPY_MODEL_96e0ccadfa5b4f308fa55cfd176c2471"
          }
        },
        "2c5c89320ab8429daba3cf018d7f0caf": {
          "model_module": "@jupyter-widgets/controls",
          "model_name": "DropdownModel",
          "model_module_version": "1.5.0",
          "state": {
            "_dom_classes": [],
            "_model_module": "@jupyter-widgets/controls",
            "_model_module_version": "1.5.0",
            "_model_name": "DropdownModel",
            "_options_labels": [
              " ",
              "picking",
              "random",
              "uniform",
              "atomindex",
              "residueindex",
              "chainindex",
              "modelindex",
              "sstruc",
              "element",
              "resname",
              "bfactor",
              "hydrophobicity",
              "value",
              "volume",
              "occupancy"
            ],
            "_view_count": null,
            "_view_module": "@jupyter-widgets/controls",
            "_view_module_version": "1.5.0",
            "_view_name": "DropdownView",
            "description": "Color scheme",
            "description_tooltip": null,
            "disabled": false,
            "index": 9,
            "layout": "IPY_MODEL_a11ec84860784634ba3bd495192a631d",
            "style": "IPY_MODEL_b43bb09ca21848978760c1ac9e37314b"
          }
        },
        "71ccac6139ee430687ffafcadb2dcd6b": {
          "model_module": "@jupyter-widgets/controls",
          "model_name": "FloatSliderModel",
          "model_module_version": "1.5.0",
          "state": {
            "_dom_classes": [],
            "_model_module": "@jupyter-widgets/controls",
            "_model_module_version": "1.5.0",
            "_model_name": "FloatSliderModel",
            "_view_count": null,
            "_view_module": "@jupyter-widgets/controls",
            "_view_module_version": "1.5.0",
            "_view_name": "FloatSliderView",
            "continuous_update": true,
            "description": "Ball size",
            "description_tooltip": null,
            "disabled": false,
            "layout": "IPY_MODEL_224200025a384b6a8548f9f352edaadf",
            "max": 1.5,
            "min": 0,
            "orientation": "horizontal",
            "readout": true,
            "readout_format": ".2f",
            "step": 0.01,
            "style": "IPY_MODEL_0a82c306a67e45db8a046ff53fad9ea8",
            "value": 0.81
          }
        },
        "1af92651d3b0487d9eac99892becb02a": {
          "model_module": "@jupyter-widgets/base",
          "model_name": "LayoutModel",
          "model_module_version": "1.2.0",
          "state": {
            "_model_module": "@jupyter-widgets/base",
            "_model_module_version": "1.2.0",
            "_model_name": "LayoutModel",
            "_view_count": null,
            "_view_module": "@jupyter-widgets/base",
            "_view_module_version": "1.2.0",
            "_view_name": "LayoutView",
            "align_content": null,
            "align_items": null,
            "align_self": null,
            "border": null,
            "bottom": null,
            "display": null,
            "flex": null,
            "flex_flow": null,
            "grid_area": null,
            "grid_auto_columns": null,
            "grid_auto_flow": null,
            "grid_auto_rows": null,
            "grid_column": null,
            "grid_gap": null,
            "grid_row": null,
            "grid_template_areas": null,
            "grid_template_columns": null,
            "grid_template_rows": null,
            "height": null,
            "justify_content": null,
            "justify_items": null,
            "left": null,
            "margin": null,
            "max_height": null,
            "max_width": null,
            "min_height": null,
            "min_width": null,
            "object_fit": null,
            "object_position": null,
            "order": null,
            "overflow": null,
            "overflow_x": null,
            "overflow_y": null,
            "padding": null,
            "right": null,
            "top": null,
            "visibility": null,
            "width": null
          }
        },
        "6f6fb0722bfe4645a64f10c93944e838": {
          "model_module": "@jupyter-widgets/base",
          "model_name": "LayoutModel",
          "model_module_version": "1.2.0",
          "state": {
            "_model_module": "@jupyter-widgets/base",
            "_model_module_version": "1.2.0",
            "_model_name": "LayoutModel",
            "_view_count": null,
            "_view_module": "@jupyter-widgets/base",
            "_view_module_version": "1.2.0",
            "_view_name": "LayoutView",
            "align_content": null,
            "align_items": null,
            "align_self": null,
            "border": null,
            "bottom": null,
            "display": null,
            "flex": null,
            "flex_flow": null,
            "grid_area": null,
            "grid_auto_columns": null,
            "grid_auto_flow": null,
            "grid_auto_rows": null,
            "grid_column": null,
            "grid_gap": null,
            "grid_row": null,
            "grid_template_areas": null,
            "grid_template_columns": null,
            "grid_template_rows": null,
            "height": null,
            "justify_content": null,
            "justify_items": null,
            "left": null,
            "margin": null,
            "max_height": null,
            "max_width": null,
            "min_height": null,
            "min_width": null,
            "object_fit": null,
            "object_position": null,
            "order": null,
            "overflow": null,
            "overflow_x": null,
            "overflow_y": null,
            "padding": null,
            "right": null,
            "top": null,
            "visibility": null,
            "width": null
          }
        },
        "96e0ccadfa5b4f308fa55cfd176c2471": {
          "model_module": "@jupyter-widgets/controls",
          "model_name": "DescriptionStyleModel",
          "model_module_version": "1.5.0",
          "state": {
            "_model_module": "@jupyter-widgets/controls",
            "_model_module_version": "1.5.0",
            "_model_name": "DescriptionStyleModel",
            "_view_count": null,
            "_view_module": "@jupyter-widgets/base",
            "_view_module_version": "1.2.0",
            "_view_name": "StyleView",
            "description_width": ""
          }
        },
        "a11ec84860784634ba3bd495192a631d": {
          "model_module": "@jupyter-widgets/base",
          "model_name": "LayoutModel",
          "model_module_version": "1.2.0",
          "state": {
            "_model_module": "@jupyter-widgets/base",
            "_model_module_version": "1.2.0",
            "_model_name": "LayoutModel",
            "_view_count": null,
            "_view_module": "@jupyter-widgets/base",
            "_view_module_version": "1.2.0",
            "_view_name": "LayoutView",
            "align_content": null,
            "align_items": null,
            "align_self": null,
            "border": null,
            "bottom": null,
            "display": null,
            "flex": null,
            "flex_flow": null,
            "grid_area": null,
            "grid_auto_columns": null,
            "grid_auto_flow": null,
            "grid_auto_rows": null,
            "grid_column": null,
            "grid_gap": null,
            "grid_row": null,
            "grid_template_areas": null,
            "grid_template_columns": null,
            "grid_template_rows": null,
            "height": null,
            "justify_content": null,
            "justify_items": null,
            "left": null,
            "margin": null,
            "max_height": null,
            "max_width": null,
            "min_height": null,
            "min_width": null,
            "object_fit": null,
            "object_position": null,
            "order": null,
            "overflow": null,
            "overflow_x": null,
            "overflow_y": null,
            "padding": null,
            "right": null,
            "top": null,
            "visibility": null,
            "width": null
          }
        },
        "b43bb09ca21848978760c1ac9e37314b": {
          "model_module": "@jupyter-widgets/controls",
          "model_name": "DescriptionStyleModel",
          "model_module_version": "1.5.0",
          "state": {
            "_model_module": "@jupyter-widgets/controls",
            "_model_module_version": "1.5.0",
            "_model_name": "DescriptionStyleModel",
            "_view_count": null,
            "_view_module": "@jupyter-widgets/base",
            "_view_module_version": "1.2.0",
            "_view_name": "StyleView",
            "description_width": ""
          }
        },
        "224200025a384b6a8548f9f352edaadf": {
          "model_module": "@jupyter-widgets/base",
          "model_name": "LayoutModel",
          "model_module_version": "1.2.0",
          "state": {
            "_model_module": "@jupyter-widgets/base",
            "_model_module_version": "1.2.0",
            "_model_name": "LayoutModel",
            "_view_count": null,
            "_view_module": "@jupyter-widgets/base",
            "_view_module_version": "1.2.0",
            "_view_name": "LayoutView",
            "align_content": null,
            "align_items": null,
            "align_self": null,
            "border": null,
            "bottom": null,
            "display": null,
            "flex": null,
            "flex_flow": null,
            "grid_area": null,
            "grid_auto_columns": null,
            "grid_auto_flow": null,
            "grid_auto_rows": null,
            "grid_column": null,
            "grid_gap": null,
            "grid_row": null,
            "grid_template_areas": null,
            "grid_template_columns": null,
            "grid_template_rows": null,
            "height": null,
            "justify_content": null,
            "justify_items": null,
            "left": null,
            "margin": null,
            "max_height": null,
            "max_width": null,
            "min_height": null,
            "min_width": null,
            "object_fit": null,
            "object_position": null,
            "order": null,
            "overflow": null,
            "overflow_x": null,
            "overflow_y": null,
            "padding": null,
            "right": null,
            "top": null,
            "visibility": null,
            "width": null
          }
        },
        "0a82c306a67e45db8a046ff53fad9ea8": {
          "model_module": "@jupyter-widgets/controls",
          "model_name": "SliderStyleModel",
          "model_module_version": "1.5.0",
          "state": {
            "_model_module": "@jupyter-widgets/controls",
            "_model_module_version": "1.5.0",
            "_model_name": "SliderStyleModel",
            "_view_count": null,
            "_view_module": "@jupyter-widgets/base",
            "_view_module_version": "1.2.0",
            "_view_name": "StyleView",
            "description_width": "",
            "handle_color": null
          }
        },
        "60eb5ebc8e434e6784cc1c258940dd50": {
          "model_module": "@jupyter-widgets/base",
          "model_name": "LayoutModel",
          "model_module_version": "1.2.0",
          "state": {
            "_model_module": "@jupyter-widgets/base",
            "_model_module_version": "1.2.0",
            "_model_name": "LayoutModel",
            "_view_count": null,
            "_view_module": "@jupyter-widgets/base",
            "_view_module_version": "1.2.0",
            "_view_name": "LayoutView",
            "align_content": null,
            "align_items": null,
            "align_self": null,
            "border": null,
            "bottom": null,
            "display": null,
            "flex": null,
            "flex_flow": null,
            "grid_area": null,
            "grid_auto_columns": null,
            "grid_auto_flow": null,
            "grid_auto_rows": null,
            "grid_column": null,
            "grid_gap": null,
            "grid_row": null,
            "grid_template_areas": null,
            "grid_template_columns": null,
            "grid_template_rows": null,
            "height": null,
            "justify_content": null,
            "justify_items": null,
            "left": null,
            "margin": null,
            "max_height": null,
            "max_width": null,
            "min_height": null,
            "min_width": null,
            "object_fit": null,
            "object_position": null,
            "order": null,
            "overflow": null,
            "overflow_x": null,
            "overflow_y": null,
            "padding": null,
            "right": null,
            "top": null,
            "visibility": null,
            "width": null
          }
        },
        "5063f1655ba946a78c1b894594b01734": {
          "model_module": "@jupyter-widgets/controls",
          "model_name": "ButtonModel",
          "model_module_version": "1.5.0",
          "state": {
            "_dom_classes": [],
            "_model_module": "@jupyter-widgets/controls",
            "_model_module_version": "1.5.0",
            "_model_name": "ButtonModel",
            "_view_count": null,
            "_view_module": "@jupyter-widgets/controls",
            "_view_module_version": "1.5.0",
            "_view_name": "ButtonView",
            "button_style": "",
            "description": "",
            "disabled": false,
            "icon": "compress",
            "layout": "IPY_MODEL_1efd2804d1554d2f99f7dfe17dda980e",
            "style": "IPY_MODEL_6ffdd46ab7d8476bb6338e4d0e1e1607",
            "tooltip": ""
          }
        },
        "36eb870ad3c64b7a9c60971f37174bd7": {
          "model_module": "@jupyter-widgets/controls",
          "model_name": "HBoxModel",
          "model_module_version": "1.5.0",
          "state": {
            "_dom_classes": [],
            "_model_module": "@jupyter-widgets/controls",
            "_model_module_version": "1.5.0",
            "_model_name": "HBoxModel",
            "_view_count": null,
            "_view_module": "@jupyter-widgets/controls",
            "_view_module_version": "1.5.0",
            "_view_name": "HBoxView",
            "box_style": "",
            "children": [
              "IPY_MODEL_930ac493033c46f0a2d1817b1e50c925",
              "IPY_MODEL_486e80e0b5ff4fd1a8659555d3f6a99c"
            ],
            "layout": "IPY_MODEL_50590b5de8b84f67a060e21c312880ab"
          }
        },
        "0bf7b51f4b2e40fdbce95d9d58560949": {
          "model_module": "@jupyter-widgets/base",
          "model_name": "LayoutModel",
          "model_module_version": "1.2.0",
          "state": {
            "_model_module": "@jupyter-widgets/base",
            "_model_module_version": "1.2.0",
            "_model_name": "LayoutModel",
            "_view_count": null,
            "_view_module": "@jupyter-widgets/base",
            "_view_module_version": "1.2.0",
            "_view_name": "LayoutView",
            "align_content": null,
            "align_items": null,
            "align_self": null,
            "border": null,
            "bottom": null,
            "display": null,
            "flex": null,
            "flex_flow": null,
            "grid_area": null,
            "grid_auto_columns": null,
            "grid_auto_flow": null,
            "grid_auto_rows": null,
            "grid_column": null,
            "grid_gap": null,
            "grid_row": null,
            "grid_template_areas": null,
            "grid_template_columns": null,
            "grid_template_rows": null,
            "height": null,
            "justify_content": null,
            "justify_items": null,
            "left": null,
            "margin": null,
            "max_height": null,
            "max_width": null,
            "min_height": null,
            "min_width": null,
            "object_fit": null,
            "object_position": null,
            "order": null,
            "overflow": null,
            "overflow_x": null,
            "overflow_y": null,
            "padding": null,
            "right": null,
            "top": null,
            "visibility": null,
            "width": null
          }
        },
        "fd8d54700e7e42889d4951c9d1da806e": {
          "model_module": "@jupyter-widgets/controls",
          "model_name": "DescriptionStyleModel",
          "model_module_version": "1.5.0",
          "state": {
            "_model_module": "@jupyter-widgets/controls",
            "_model_module_version": "1.5.0",
            "_model_name": "DescriptionStyleModel",
            "_view_count": null,
            "_view_module": "@jupyter-widgets/base",
            "_view_module_version": "1.2.0",
            "_view_name": "StyleView",
            "description_width": ""
          }
        },
        "21b9387185ff4fa3bdb70782e0d15c9c": {
          "model_module": "@jupyter-widgets/base",
          "model_name": "LayoutModel",
          "model_module_version": "1.2.0",
          "state": {
            "_model_module": "@jupyter-widgets/base",
            "_model_module_version": "1.2.0",
            "_model_name": "LayoutModel",
            "_view_count": null,
            "_view_module": "@jupyter-widgets/base",
            "_view_module_version": "1.2.0",
            "_view_name": "LayoutView",
            "align_content": null,
            "align_items": null,
            "align_self": null,
            "border": null,
            "bottom": null,
            "display": null,
            "flex": null,
            "flex_flow": null,
            "grid_area": null,
            "grid_auto_columns": null,
            "grid_auto_flow": null,
            "grid_auto_rows": null,
            "grid_column": null,
            "grid_gap": null,
            "grid_row": null,
            "grid_template_areas": null,
            "grid_template_columns": null,
            "grid_template_rows": null,
            "height": null,
            "justify_content": null,
            "justify_items": null,
            "left": null,
            "margin": null,
            "max_height": null,
            "max_width": null,
            "min_height": null,
            "min_width": null,
            "object_fit": null,
            "object_position": null,
            "order": null,
            "overflow": null,
            "overflow_x": null,
            "overflow_y": null,
            "padding": null,
            "right": null,
            "top": null,
            "visibility": null,
            "width": null
          }
        },
        "a6af88f73d9c4d309ec0644f8736bc3d": {
          "model_module": "@jupyter-widgets/controls",
          "model_name": "SliderStyleModel",
          "model_module_version": "1.5.0",
          "state": {
            "_model_module": "@jupyter-widgets/controls",
            "_model_module_version": "1.5.0",
            "_model_name": "SliderStyleModel",
            "_view_count": null,
            "_view_module": "@jupyter-widgets/base",
            "_view_module_version": "1.2.0",
            "_view_name": "StyleView",
            "description_width": "",
            "handle_color": null
          }
        },
        "930ac493033c46f0a2d1817b1e50c925": {
          "model_module": "@jupyter-widgets/controls",
          "model_name": "PlayModel",
          "model_module_version": "1.5.0",
          "state": {
            "_dom_classes": [],
            "_model_module": "@jupyter-widgets/controls",
            "_model_module_version": "1.5.0",
            "_model_name": "PlayModel",
            "_playing": false,
            "_repeat": false,
            "_view_count": null,
            "_view_module": "@jupyter-widgets/controls",
            "_view_module_version": "1.5.0",
            "_view_name": "PlayView",
            "description": "",
            "description_tooltip": null,
            "disabled": false,
            "interval": 100,
            "layout": "IPY_MODEL_0bf7b51f4b2e40fdbce95d9d58560949",
            "max": 0,
            "min": 0,
            "show_repeat": true,
            "step": 1,
            "style": "IPY_MODEL_fd8d54700e7e42889d4951c9d1da806e",
            "value": 0
          }
        },
        "486e80e0b5ff4fd1a8659555d3f6a99c": {
          "model_module": "@jupyter-widgets/controls",
          "model_name": "IntSliderModel",
          "model_module_version": "1.5.0",
          "state": {
            "_dom_classes": [],
            "_model_module": "@jupyter-widgets/controls",
            "_model_module_version": "1.5.0",
            "_model_name": "IntSliderModel",
            "_view_count": null,
            "_view_module": "@jupyter-widgets/controls",
            "_view_module_version": "1.5.0",
            "_view_name": "IntSliderView",
            "continuous_update": true,
            "description": "",
            "description_tooltip": null,
            "disabled": false,
            "layout": "IPY_MODEL_21b9387185ff4fa3bdb70782e0d15c9c",
            "max": 0,
            "min": 0,
            "orientation": "horizontal",
            "readout": true,
            "readout_format": "d",
            "step": 1,
            "style": "IPY_MODEL_a6af88f73d9c4d309ec0644f8736bc3d",
            "value": 0
          }
        },
        "50590b5de8b84f67a060e21c312880ab": {
          "model_module": "@jupyter-widgets/base",
          "model_name": "LayoutModel",
          "model_module_version": "1.2.0",
          "state": {
            "_model_module": "@jupyter-widgets/base",
            "_model_module_version": "1.2.0",
            "_model_name": "LayoutModel",
            "_view_count": null,
            "_view_module": "@jupyter-widgets/base",
            "_view_module_version": "1.2.0",
            "_view_name": "LayoutView",
            "align_content": null,
            "align_items": null,
            "align_self": null,
            "border": null,
            "bottom": null,
            "display": null,
            "flex": null,
            "flex_flow": null,
            "grid_area": null,
            "grid_auto_columns": null,
            "grid_auto_flow": null,
            "grid_auto_rows": null,
            "grid_column": null,
            "grid_gap": null,
            "grid_row": null,
            "grid_template_areas": null,
            "grid_template_columns": null,
            "grid_template_rows": null,
            "height": null,
            "justify_content": null,
            "justify_items": null,
            "left": null,
            "margin": null,
            "max_height": null,
            "max_width": null,
            "min_height": null,
            "min_width": null,
            "object_fit": null,
            "object_position": null,
            "order": null,
            "overflow": null,
            "overflow_x": null,
            "overflow_y": null,
            "padding": null,
            "right": null,
            "top": null,
            "visibility": null,
            "width": null
          }
        },
        "1efd2804d1554d2f99f7dfe17dda980e": {
          "model_module": "@jupyter-widgets/base",
          "model_name": "LayoutModel",
          "model_module_version": "1.2.0",
          "state": {
            "_model_module": "@jupyter-widgets/base",
            "_model_module_version": "1.2.0",
            "_model_name": "LayoutModel",
            "_view_count": null,
            "_view_module": "@jupyter-widgets/base",
            "_view_module_version": "1.2.0",
            "_view_name": "LayoutView",
            "align_content": null,
            "align_items": null,
            "align_self": null,
            "border": null,
            "bottom": null,
            "display": null,
            "flex": null,
            "flex_flow": null,
            "grid_area": null,
            "grid_auto_columns": null,
            "grid_auto_flow": null,
            "grid_auto_rows": null,
            "grid_column": null,
            "grid_gap": null,
            "grid_row": null,
            "grid_template_areas": null,
            "grid_template_columns": null,
            "grid_template_rows": null,
            "height": null,
            "justify_content": null,
            "justify_items": null,
            "left": null,
            "margin": null,
            "max_height": null,
            "max_width": null,
            "min_height": null,
            "min_width": null,
            "object_fit": null,
            "object_position": null,
            "order": null,
            "overflow": null,
            "overflow_x": null,
            "overflow_y": null,
            "padding": null,
            "right": null,
            "top": null,
            "visibility": null,
            "width": "34px"
          }
        },
        "6ffdd46ab7d8476bb6338e4d0e1e1607": {
          "model_module": "@jupyter-widgets/controls",
          "model_name": "ButtonStyleModel",
          "model_module_version": "1.5.0",
          "state": {
            "_model_module": "@jupyter-widgets/controls",
            "_model_module_version": "1.5.0",
            "_model_name": "ButtonStyleModel",
            "_view_count": null,
            "_view_module": "@jupyter-widgets/base",
            "_view_module_version": "1.2.0",
            "_view_name": "StyleView",
            "button_color": null,
            "font_weight": ""
          }
        },
        "fc6339b9a8cc4907b93ec3527b0fb02b": {
          "model_module": "@jupyter-widgets/controls",
          "model_name": "VBoxModel",
          "model_module_version": "1.5.0",
          "state": {
            "_dom_classes": [
              "widget-interact"
            ],
            "_model_module": "@jupyter-widgets/controls",
            "_model_module_version": "1.5.0",
            "_model_name": "VBoxModel",
            "_view_count": null,
            "_view_module": "@jupyter-widgets/controls",
            "_view_module_version": "1.5.0",
            "_view_name": "VBoxView",
            "box_style": "",
            "children": [
              "IPY_MODEL_4780d190922644a6969e177ca694a2e6",
              "IPY_MODEL_599f0a3e47a3492dbb730be107d8d521"
            ],
            "layout": "IPY_MODEL_04ff0662feef441ab885efc7f77ca3a2"
          }
        },
        "4780d190922644a6969e177ca694a2e6": {
          "model_module": "@jupyter-widgets/controls",
          "model_name": "FloatSliderModel",
          "model_module_version": "1.5.0",
          "state": {
            "_dom_classes": [],
            "_model_module": "@jupyter-widgets/controls",
            "_model_module_version": "1.5.0",
            "_model_name": "FloatSliderModel",
            "_view_count": null,
            "_view_module": "@jupyter-widgets/controls",
            "_view_module_version": "1.5.0",
            "_view_name": "FloatSliderView",
            "continuous_update": true,
            "description": "max_AtomContributionValue",
            "description_tooltip": null,
            "disabled": false,
            "layout": "IPY_MODEL_dc714c7368cf4ac9b5a13b9617543c4c",
            "max": 1,
            "min": 0,
            "orientation": "horizontal",
            "readout": true,
            "readout_format": ".2f",
            "step": 0.1,
            "style": "IPY_MODEL_e32a1fe7d47a450ea37eeb4c40a49211",
            "value": 0.4
          }
        },
        "599f0a3e47a3492dbb730be107d8d521": {
          "model_module": "@jupyter-widgets/output",
          "model_name": "OutputModel",
          "model_module_version": "1.0.0",
          "state": {
            "_dom_classes": [],
            "_model_module": "@jupyter-widgets/output",
            "_model_module_version": "1.0.0",
            "_model_name": "OutputModel",
            "_view_count": null,
            "_view_module": "@jupyter-widgets/output",
            "_view_module_version": "1.0.0",
            "_view_name": "OutputView",
            "layout": "IPY_MODEL_5136fa6a79b44139aabec575624a5e87",
            "msg_id": "",
            "outputs": [
              {
                "output_type": "display_data",
                "data": {
                  "text/plain": "<Figure size 432x288 with 1 Axes>",
                  "image/png": "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\n"
                },
                "metadata": {
                  "needs_background": "light"
                }
              }
            ]
          }
        },
        "04ff0662feef441ab885efc7f77ca3a2": {
          "model_module": "@jupyter-widgets/base",
          "model_name": "LayoutModel",
          "model_module_version": "1.2.0",
          "state": {
            "_model_module": "@jupyter-widgets/base",
            "_model_module_version": "1.2.0",
            "_model_name": "LayoutModel",
            "_view_count": null,
            "_view_module": "@jupyter-widgets/base",
            "_view_module_version": "1.2.0",
            "_view_name": "LayoutView",
            "align_content": null,
            "align_items": null,
            "align_self": null,
            "border": null,
            "bottom": null,
            "display": null,
            "flex": null,
            "flex_flow": null,
            "grid_area": null,
            "grid_auto_columns": null,
            "grid_auto_flow": null,
            "grid_auto_rows": null,
            "grid_column": null,
            "grid_gap": null,
            "grid_row": null,
            "grid_template_areas": null,
            "grid_template_columns": null,
            "grid_template_rows": null,
            "height": null,
            "justify_content": null,
            "justify_items": null,
            "left": null,
            "margin": null,
            "max_height": null,
            "max_width": null,
            "min_height": null,
            "min_width": null,
            "object_fit": null,
            "object_position": null,
            "order": null,
            "overflow": null,
            "overflow_x": null,
            "overflow_y": null,
            "padding": null,
            "right": null,
            "top": null,
            "visibility": null,
            "width": null
          }
        },
        "dc714c7368cf4ac9b5a13b9617543c4c": {
          "model_module": "@jupyter-widgets/base",
          "model_name": "LayoutModel",
          "model_module_version": "1.2.0",
          "state": {
            "_model_module": "@jupyter-widgets/base",
            "_model_module_version": "1.2.0",
            "_model_name": "LayoutModel",
            "_view_count": null,
            "_view_module": "@jupyter-widgets/base",
            "_view_module_version": "1.2.0",
            "_view_name": "LayoutView",
            "align_content": null,
            "align_items": null,
            "align_self": null,
            "border": null,
            "bottom": null,
            "display": null,
            "flex": null,
            "flex_flow": null,
            "grid_area": null,
            "grid_auto_columns": null,
            "grid_auto_flow": null,
            "grid_auto_rows": null,
            "grid_column": null,
            "grid_gap": null,
            "grid_row": null,
            "grid_template_areas": null,
            "grid_template_columns": null,
            "grid_template_rows": null,
            "height": null,
            "justify_content": null,
            "justify_items": null,
            "left": null,
            "margin": null,
            "max_height": null,
            "max_width": null,
            "min_height": null,
            "min_width": null,
            "object_fit": null,
            "object_position": null,
            "order": null,
            "overflow": null,
            "overflow_x": null,
            "overflow_y": null,
            "padding": null,
            "right": null,
            "top": null,
            "visibility": null,
            "width": null
          }
        },
        "e32a1fe7d47a450ea37eeb4c40a49211": {
          "model_module": "@jupyter-widgets/controls",
          "model_name": "SliderStyleModel",
          "model_module_version": "1.5.0",
          "state": {
            "_model_module": "@jupyter-widgets/controls",
            "_model_module_version": "1.5.0",
            "_model_name": "SliderStyleModel",
            "_view_count": null,
            "_view_module": "@jupyter-widgets/base",
            "_view_module_version": "1.2.0",
            "_view_name": "StyleView",
            "description_width": "",
            "handle_color": null
          }
        },
        "5136fa6a79b44139aabec575624a5e87": {
          "model_module": "@jupyter-widgets/base",
          "model_name": "LayoutModel",
          "model_module_version": "1.2.0",
          "state": {
            "_model_module": "@jupyter-widgets/base",
            "_model_module_version": "1.2.0",
            "_model_name": "LayoutModel",
            "_view_count": null,
            "_view_module": "@jupyter-widgets/base",
            "_view_module_version": "1.2.0",
            "_view_name": "LayoutView",
            "align_content": null,
            "align_items": null,
            "align_self": null,
            "border": null,
            "bottom": null,
            "display": null,
            "flex": null,
            "flex_flow": null,
            "grid_area": null,
            "grid_auto_columns": null,
            "grid_auto_flow": null,
            "grid_auto_rows": null,
            "grid_column": null,
            "grid_gap": null,
            "grid_row": null,
            "grid_template_areas": null,
            "grid_template_columns": null,
            "grid_template_rows": null,
            "height": null,
            "justify_content": null,
            "justify_items": null,
            "left": null,
            "margin": null,
            "max_height": null,
            "max_width": null,
            "min_height": null,
            "min_width": null,
            "object_fit": null,
            "object_position": null,
            "order": null,
            "overflow": null,
            "overflow_x": null,
            "overflow_y": null,
            "padding": null,
            "right": null,
            "top": null,
            "visibility": null,
            "width": null
          }
        }
      }
    }
  },
  "cells": [
    {
      "cell_type": "markdown",
      "metadata": {
        "id": "view-in-github",
        "colab_type": "text"
      },
      "source": [
        "<a href=\"https://colab.research.google.com/github/AndySAnker/fast-MotEx/blob/main/fast_MotEx.ipynb\" target=\"_parent\"><img src=\"https://colab.research.google.com/assets/colab-badge.svg\" alt=\"Open In Colab\"/></a>"
      ]
    },
    {
      "cell_type": "markdown",
      "source": [
        "# Welcome to MotEx\n",
        "\n",
        "## First import modules, set seed parameters and import functions"
      ],
      "metadata": {
        "id": "XgSAqxb1G3y9"
      }
    },
    {
      "cell_type": "code",
      "source": [
        "import numpy as np\n",
        "import time\n",
        "import matplotlib as mpl\n",
        "import matplotlib.cm\n",
        "from multiprocessing import Pool\n",
        "from functools import partial\n",
        "from google.colab import output, files\n",
        "#!git clone https://github.com/AndySAnker/fast-MotEx.git"
      ],
      "metadata": {
        "id": "cgPfoSZQGxwC"
      },
      "execution_count": 4,
      "outputs": []
    },
    {
      "cell_type": "code",
      "source": [
        "formfactor_dict = {\n",
        "  \"H\": 1, \"He\": 2, \"Li\": 3, \"Be\": 4, \"B\": 5, \"C\": 6, \"N\": 7, \"O\": 8, \"F\": 9, \"Ne\": 10, \"Na\": 11, \"Mg\": 12,\n",
        "  \"Al\": 13, \"Si\": 14, \"P\": 15, \"S\": 16, \"Cl\": 17, \"Ar\": 18, \"K\": 19, \"Ca\": 20, \"Sc\": 21, \"Ti\": 22, \"V\": 23, \"Cr\": 24,\n",
        "  \"Mn\": 25, \"Fe\": 26, \"Co\": 27, \"Ni\": 28, \"Cu\": 29, \"Zn\": 30, \"Ga\": 31, \"Ge\": 32, \"As\": 33, \"Se\": 34, \"Br\": 35, \"Kr\": 36,\n",
        "  \"Rb\": 37, \"Sr\": 38, \"Y\": 39, \"Zr\": 40, \"Nb\": 41, \"Mo\": 42, \"Tc\": 43, \"Ru\": 44, \"Rh\": 45, \"Pd\": 46, \"Ag\": 47, \"Cd\": 48,\n",
        "  \"In\": 49, \"Sn\": 50, \"Sb\": 51, \"Te\": 52, \"I\": 53, \"Xe\": 54, \"Cs\": 55, \"Ba\": 56, \"Hf\": 72, \"Ta\": 73, \"W\": 74, \"Re\": 75,\n",
        "  \"Os\": 76, \"Ir\": 77, \"Pt\": 78, \"Au\": 79, \"Hg\": 80, \"Tl\": 81, \"Pb\": 82, \"Bi\": 83, \"Po\": 84, \"At\": 85, \"Rn\": 86, \"Fr\": 87,\n",
        "  \"Ra\": 88, \"Rf\": 104, \"Db\": 105, \"Sg\": 106, \"Bh\": 107, \"Hs\": 108, \"Mt\": 109, \"Ds\": 110, \"Rg\": 111, \"Cn\": 112, \"Nh\": 113, \"Fl\": 114,\n",
        "  \"Mc\": 115, \"Lv\": 116, \"Ts\": 117, \"Og\": 118, \"La\": 57, \"Ce\": 58, \"Pr\": 59, \"Nd\": 60, \"Pm\": 61, \"Sm\": 62, \"Eu\": 63, \"Gd\": 64,\n",
        "  \"Tb\": 65, \"Dy\": 66, \"Ho\": 67, \"Er\": 68, \"Tm\": 69, \"Yb\": 70, \"Lu\": 71, \"Ac\": 89, \"Th\": 90, \"Pa\": 91, \"U\": 92, \"Np\": 93,\n",
        "  \"Pu\": 94, \"Am\": 95, \"Cm\": 96, \"Bk\": 97, \"Cf\": 98, \"Es\": 99, \"Fm\": 100, \"Md\": 101, \"No\": 102, \"Lr\": 103, \"D\": 1}\n",
        "\n",
        "def Load(Experimental_Data, starting_model):\n",
        "    \"\"\"This function loads the data and structure\"\"\"\n",
        "    \n",
        "    # Get experimental data\n",
        "    for skip_row in range(100):\n",
        "        try:\n",
        "            Exp_data = np.loadtxt(Experimental_Data, skiprows=skip_row)\n",
        "        except ValueError:\n",
        "            continue\n",
        "    # Nyquist sampling the data by only using every 10nth datapoint\n",
        "    if Exp_data[1,0] - Exp_data[0,0] < 0.1:\n",
        "        Exp_r, Exp_Gr = Exp_data[::10,0], Exp_data[::10,1]\n",
        "    else:\n",
        "        Exp_r, Exp_Gr = Exp_data[:,0], Exp_data[:,1]\n",
        "    # Normalise data\n",
        "    Exp_Gr /= np.mean(Exp_Gr)\n",
        "    \n",
        "    # Read structure and divide it into two lists: Atoms we want to iterate (W) and atoms we do not iterate (O)\n",
        "    struct=[]\n",
        "    with open(starting_model, 'r') as fi:\n",
        "        for line in fi.readlines():\n",
        "            sep_line=line.strip('{}\\n\\r ').split()\n",
        "            if len(sep_line)==4: #  tillader andre informationer i xyz filen some ikke skal laeses\n",
        "                struct.append(sep_line)\n",
        "    elements=np.array(struct)[:,0]\n",
        "    xyz=(np.array(struct)[:,1:].astype(float))\n",
        "    \n",
        "    return Exp_r, Exp_Gr, elements, xyz\n",
        "\n",
        "def fitting(structure_catalogue, formfactor_dict, Exp_r, Exp_Gr, elements, xyz, index):    \n",
        "    \"\"\"This function takes in a 'starting_model', and an 'index' from the 'structure_catalogue'. It generates the \n",
        "    corresponding structure and calculate the Rwp value to the 'Experimental_Data without fitting\"\"\"\n",
        "    \n",
        "    # Cycle through W atoms and delete W according to index 0's from permutation\n",
        "    delete_M = np.where(np.array(structure_catalogue)[index,:] == 0)[0]\n",
        " \n",
        "    # Delete atoms from starting model \n",
        "    elements = np.delete(elements, delete_M, 0)\n",
        "    xyz = np.delete(xyz, delete_M, 0)\n",
        "    elements = [int(formfactor_dict[element]) for element in elements]\n",
        "\n",
        "    # Delete oxygen atoms that are to far away from metal atoms\n",
        "    oxygens, non_oxygens = np.where(np.array(elements) == 8)[0], np.where(np.array(elements) != 8)[0]\n",
        "    for oxygen_atom in reversed(oxygens):\n",
        "      dists = np.sqrt((xyz[oxygen_atom,0]-xyz[non_oxygens,0])**2+(xyz[oxygen_atom,1]-xyz[non_oxygens,1])**2+(xyz[oxygen_atom,2]-xyz[non_oxygens,2])**2)\n",
        "      min_dist = min(dists)\n",
        "      if min_dist > threshold:\n",
        "        elements = np.delete(elements, oxygen_atom, 0)\n",
        "        xyz = np.delete(xyz, oxygen_atom, 0)\n",
        "\n",
        "    # Calculate distances and formfactor to simulate PDF\n",
        "    i, j = np.triu_indices(len(xyz), k=1)\n",
        "    dists = np.sqrt((xyz[i,0]-xyz[j,0])**2+(xyz[i,1]-xyz[j,1])**2+(xyz[i,2]-xyz[j,2])**2)\n",
        "    formfactor = np.array(elements)[i] * np.array(elements)[j]\n",
        "    normalisation_factor = np.array(np.mean(np.array(elements)) ** 2).repeat(len(j), axis=0)\n",
        "    formfactor = np.array(formfactor) / np.array(normalisation_factor)\n",
        "    \n",
        "    # Simulate PDF\n",
        "    Sim_Gr, Sim_r = np.histogram(np.array(dists, dtype=float), bins=len(Exp_r), range=[Exp_r[0]-0.05,Exp_r[-1]+0.05], weights=np.array(formfactor, dtype=float))\n",
        "    Sim_r = (Sim_r[1:] + Sim_r[:-1]) / 2\n",
        "    \n",
        "    # Normalise PDF\n",
        "    Sim_Gr = np.nan_to_num(Sim_Gr, 0)\n",
        "    Sim_Gr /= np.mean(Sim_Gr)\n",
        "    \n",
        "    # Calculate Rwp value\n",
        "    Rwp = np.sqrt(sum((Exp_Gr - Sim_Gr)**2) / sum((Exp_Gr)**2))\n",
        "    \n",
        "    return 1-Rwp\n",
        "\n",
        "def fitting_multiprocess(structure_catalogue, formfactor_dict, Exp_r, Exp_Gr, element, xyz, SaveName, cores=1):\n",
        "    \"\"\"This function runs the calculations of all the structures in the structure catalogue using multiprocessing\"\"\"\n",
        "\n",
        "    values = []\n",
        "    # Set up multiprocessing refinement\n",
        "    fitindex = range(len(structure_catalogue))\n",
        "    p = Pool(processes=cores)\n",
        "    func = partial(fitting, structure_catalogue, formfactor_dict, Exp_r, Exp_Gr, element, xyz)\n",
        "    results = p.map(func, fitindex)\n",
        "    p.close()\n",
        "    p.join()\n",
        "    \n",
        "    # Start calculating residuals and append results to lists\n",
        "    for i in fitindex:\n",
        "        rw = results[i]\n",
        "        values.append(rw)\n",
        "    values = np.reshape(values,(int(len(values)/1) , 1))\n",
        "    \n",
        "    # Save results \n",
        "    Result = np.column_stack([values, np.asarray(structure_catalogue)])\n",
        "    np.savetxt(SaveName, Result)\n",
        "    return Result\n",
        "\n",
        "def structure_catalogue_maker(Number_of_atoms):\n",
        "    \"\"\"Makes a catalogue of structures\"\"\"\n",
        "    structure_catalogue = np.ones((Number_of_atoms,Number_of_atoms))\n",
        "    structure_catalogue[np.array([range(Number_of_atoms)]),np.array([range(Number_of_atoms)])] = 0\n",
        "    return structure_catalogue\n",
        "\n",
        "def calculate_atomContributionValue(Result, saveResults):\n",
        "    \"\"\"Calculate atom contribution value list from the result array\"\"\"\n",
        "    \n",
        "    # Define AtomContributionValues vector\n",
        "    AtomContributionValues = Result[:,0]\n",
        "    \n",
        "    # Normalise the AtomContributionValues\n",
        "    amin, amax = min(AtomContributionValues), max(AtomContributionValues)\n",
        "    AtomContributionValues = (AtomContributionValues - amin) / (amax - amin)\n",
        "    AtomContributionValues_ph = AtomContributionValues.copy()\n",
        "    AtomContributionValues_ph.sort()\n",
        "\n",
        "    # Define colormap of viridis.reverse\n",
        "    #norm = mpl.colors.Normalize(vmin=AtomContributionValues_ph[round((len(AtomContributionValues))/10)], vmax=AtomContributionValues_ph[-round((len(AtomContributionValues))/10)])\n",
        "    norm = mpl.colors.Normalize(vmin=min(AtomContributionValues), vmax=max(AtomContributionValues))\n",
        "    cmap = matplotlib.cm.cividis_r\n",
        "    m = mpl.cm.ScalarMappable(norm=norm, cmap=cmap)\n",
        "    \n",
        "    # Save results to file\n",
        "    f = open(saveResults+\"AtomContributionValues.txt\", \"w\")\n",
        "    f.write(\"\\nAtom contribution are calculated to: \\n\")\n",
        "    for i in range(len(AtomContributionValues)):\n",
        "        f.write(\"Atom # \"+ str(i+1) + \":  \"+ str(AtomContributionValues[i]) + \"  Colorcode:  \"+ mpl.colors.rgb2hex(m.to_rgba(AtomContributionValues[i]))+\"\\n\")\n",
        "    \n",
        "    return m, AtomContributionValues\n",
        "\n",
        "def Make_CrystalMakerFile(elements, xyz, AtomContributionValues, m, saveResults, threshold):\n",
        "    # Read bonds and colors of all atoms\n",
        "    bonding = []\n",
        "    with open(\"fast-MotEx/utils/Bonding.txt\", 'r') as fi:\n",
        "        for line in fi.readlines():\n",
        "            sep_line=line.strip('{}\\n\\r ').split()\n",
        "            bonding.append(sep_line)\n",
        "    bonding = np.array(bonding)\n",
        "    \n",
        "    # Output a crystalmaker file to visualize the results\n",
        "    CrystalMaker = open(saveResults+'_CrystalMaker.cmtx', 'w')\n",
        "\n",
        "    CrystalMaker.write(\"MOLE  CrystalMaker molecule format\\n\")\n",
        "    CrystalMaker.write(\"TITL  Molecule\\n\\n\")\n",
        "    CrystalMaker.write(\"! Model type\\n\")\n",
        "    CrystalMaker.write(\"MODL  1\\n\\n\")\n",
        "\n",
        "    CrystalMaker.write(\"! Depth fading settings\\n\")\n",
        "    CrystalMaker.write(\"DCUE  1.000000 0.212899 0.704686\\n\\n\")\n",
        "\n",
        "    CrystalMaker.write(\"! Colour definitions:\\n\")\n",
        "    CrystalMaker.write(\"TYPE\\n\")\n",
        "\n",
        "    # Assign colors to all the atoms\n",
        "    for iter, element in enumerate(elements):\n",
        "        if iter < NumW:\n",
        "            #CrystalMaker.write(element + str(iter+1) + \" 1.32 \")\n",
        "            CrystalMaker.write(element + str(iter+1) + \" \" + bonding[np.where(bonding == element)[0][0], 1] + \" \")\n",
        "            rgb1 = m.to_rgba(AtomContributionValues[iter])[:-1][0]\n",
        "            rgb2 = m.to_rgba(AtomContributionValues[iter])[:-1][1]\n",
        "            rgb3 = m.to_rgba(AtomContributionValues[iter])[:-1][2]\n",
        "            CrystalMaker.write(str(rgb1) + \" \" + str(rgb2) + \" \" + str(rgb3))\n",
        "            CrystalMaker.write(\"\\n\")\n",
        "        else:\n",
        "            #CrystalMaker.write(element + str(iter+1) + \" 0.66 \")\n",
        "            CrystalMaker.write(element + str(iter+1) + \" \" + bonding[np.where(bonding == element)[0][0], 1] + \" \")\n",
        "            rgb1 = int(float(bonding[np.where(bonding == element)[0][0], 2])*255) #mpl.colors.to_rgb(\"#FF0000\")[0]\n",
        "            rgb2 = int(float(bonding[np.where(bonding == element)[0][0], 3])*255) #mpl.colors.to_rgb(\"#FF0000\")[1]\n",
        "            rgb3 = int(float(bonding[np.where(bonding == element)[0][0], 4])*255) #mpl.colors.to_rgb(\"#FF0000\")[2]\n",
        "            CrystalMaker.write(str(rgb1) + \" \" + str(rgb2) + \" \" + str(rgb3))\n",
        "            CrystalMaker.write(\"\\n\")\n",
        "    \n",
        "    CrystalMaker.write(\"\\n\")\n",
        "    CrystalMaker.write(\"! Atoms list\\n\")\n",
        "    CrystalMaker.write(\"! Bond Specifications\\n\")\n",
        "    \n",
        "    # Assign bonds between the atoms\n",
        "    for iter, element in enumerate(elements):\n",
        "        if iter < NumW:\n",
        "            NI_elements = np.delete(np.unique(elements), np.where(np.unique(elements) == element)[0])\n",
        "            for NI_element in NI_elements:\n",
        "                CrystalMaker.write(\"BMAX \" + element + \" \" + str(NI_element) + \"  \" + str(threshold))\n",
        "                CrystalMaker.write(\"\\n\")\n",
        "    \n",
        "    CrystalMaker.write(\"\\n\")\n",
        "    CrystalMaker.write(\"! Atoms list\\n\")\n",
        "    CrystalMaker.write(\"ATOM\\n\")\n",
        "    \n",
        "    # Assign coordinates to the atoms\n",
        "    for iter, element in enumerate(elements):\n",
        "        if iter < NumW:\n",
        "            CrystalMaker.write(element + \" \" + element + str(iter+1) + \" \" + str(xyz[iter][0]) + \" \" + str(xyz[iter][1]) + \" \" + str(xyz[iter][2]) + \"\\n\")\n",
        "        else:\n",
        "            CrystalMaker.write(element + \" \" + element + str(iter+1) + \" \" + str(xyz[iter][0]) + \" \" + str(xyz[iter][1]) + \" \" + str(xyz[iter][2]) + \"\\n\")\n",
        "\n",
        "    CrystalMaker.close()\n",
        "    \n",
        "    return None\n",
        "\n",
        "def Make_VestaFile(elements, xyz, AtomContributionValues, m, saveResults, threshold):\n",
        "    # Read bonds and colors of all atoms\n",
        "    bonding = []\n",
        "    with open(\"fast-MotEx/utils/Bonding.txt\", 'r') as fi:\n",
        "        for line in fi.readlines():\n",
        "            sep_line=line.strip('{}\\n\\r ').split()\n",
        "            bonding.append(sep_line)\n",
        "    bonding = np.array(bonding)\n",
        "\n",
        "    # Output a Vesta file to visualize the results\n",
        "    Vesta = open(saveResults+'_Vesta.vesta', 'w')\n",
        "\n",
        "    Vesta.write(\"#VESTA_FORMAT_VERSION 3.5.4\\n\\n\\n\")\n",
        "    Vesta.write(\"MOLECULE\\n\\n\")\n",
        "    Vesta.write(\"Title\\n\")\n",
        "    Vesta.write(\"XYZ file\\n\\n\")\n",
        "\n",
        "    Vesta.write(\"STRUC\\n\")\n",
        "    # Assign coordinates to the atoms\n",
        "    for iter, element in enumerate(elements):\n",
        "        Vesta.write(str(iter+1) + \" \" + element + \" \" + element + str(iter+1) + \" 1.0000 \" + str(xyz[iter][0]) + \" \" + str(xyz[iter][1]) + \" \" + str(xyz[iter][2]) + \"1\" + \" -\" + \"\\n\")\n",
        "        Vesta.write(\"0 0 0 0\\n\")\n",
        "    Vesta.write(\"  0 0 0 0 0 0 0\\n\")\n",
        "\n",
        "    Vesta.write(\"SBOND\\n\")\n",
        "    # Assign bonds between the atoms\n",
        "    unique_elements = np.unique(elements)\n",
        "    for iter, element1 in enumerate(unique_elements):\n",
        "      for iter, element2 in enumerate(unique_elements):\n",
        "        if not element1 == element2:\n",
        "          Vesta.write(str(iter+1) + \" \" + element1 + \" \" + element2 + \" 0.0 \" + str(threshold) + \" 0 1 1 0 1 0.25 2 127 127 127\\n\")\n",
        "          Vesta.write(\"0 0 0 0\\n\")\n",
        "    \n",
        "    Vesta.write(\"SITET\\n\")\n",
        "    # Assign colors to all the atoms\n",
        "    for iter, element in enumerate(elements):\n",
        "        if iter < NumW:\n",
        "            rgb1 = int(m.to_rgba(AtomContributionValues[iter])[:-1][0]*255)\n",
        "            rgb2 = int(m.to_rgba(AtomContributionValues[iter])[:-1][1]*255)\n",
        "            rgb3 = int(m.to_rgba(AtomContributionValues[iter])[:-1][2]*255)\n",
        "            Vesta.write(str(iter+1) + \" \" + element + str(iter+1) + \" \" + bonding[np.where(bonding == element)[0][0], 1] + \" \" + str(rgb1) + \" \" + str(rgb2) + \" \" + str(rgb3) + \" \" + str(rgb1) + \" \" + str(rgb2) + \" \" + str(rgb3) + \" 204 0\\n\")\n",
        "        else:\n",
        "            rgb1 = int(float(bonding[np.where(bonding == element)[0][0], 2])*255)\n",
        "            rgb2 = int(float(bonding[np.where(bonding == element)[0][0], 3])*255)\n",
        "            rgb3 = int(float(bonding[np.where(bonding == element)[0][0], 4])*255)\n",
        "            Vesta.write(str(iter+1) + \" \" + element + str(iter+1) + \" \" + bonding[np.where(bonding == element)[0][0], 1] + \" \" + str(rgb1) + \" \" + str(rgb2) + \" \" + str(rgb3) + \" \" + str(rgb1) + \" \" + str(rgb2) + \" \" + str(rgb3) + \" 204 0\\n\")\n",
        "    Vesta.write(\"0 0 0 0 0 0\\n\")\n",
        "    \n",
        "    Vesta.write(\"ATOMT\\n\")\n",
        "    done_deal_atoms = []\n",
        "    for iter, element in enumerate(elements):\n",
        "      if element not in done_deal_atoms:\n",
        "        rgb1 = int(float(bonding[np.where(bonding == element)[0][0], 2])*255)\n",
        "        rgb2 = int(float(bonding[np.where(bonding == element)[0][0], 3])*255)\n",
        "        rgb3 = int(float(bonding[np.where(bonding == element)[0][0], 4])*255)\n",
        "        Vesta.write(str(iter+1) + \" \" + element + \" \" + bonding[np.where(bonding == element)[0][0], 1] + \" \" + str(rgb1) + \" \" + str(rgb2) + \" \" + str(rgb3) + \" \" + str(rgb1) + \" \" + str(rgb2) + \" \" + str(rgb3) + \" 204\\n\")\n",
        "        done_deal_atoms.append(element)\n",
        "    Vesta.write(\"0 0 0 0 0 0\\n\")\n",
        "\n",
        "    Vesta.close()\n",
        "    \n",
        "    return None\n",
        "    "
      ],
      "metadata": {
        "id": "OD8PBDcqGzoP"
      },
      "execution_count": 93,
      "outputs": []
    },
    {
      "cell_type": "markdown",
      "source": [
        "## Define variables"
      ],
      "metadata": {
        "id": "qHTHPrIcG94w"
      }
    },
    {
      "cell_type": "code",
      "source": [
        "starting_model = \"Mo36_Krebs_newest.xyz\" #\"109725.xyz\" #\"Mo36_Krebs_newest.xyz\" #list(files.upload())[0] # Name of the starting model file\n",
        "NumW = 36 # Number of atoms that should be permuted in the starting model\n",
        "StemName = \"Al-Mo15-rsub_dioptas\" #\"DanMAX_AlphaKeggin_nyquist\" #\"Al-Mo15-rsub_dioptas\" #list(files.upload())[0][:-3] # Upload PDF(s) from local computer\n",
        "threshold = 2.6"
      ],
      "metadata": {
        "id": "Db6Jd4lgG28k"
      },
      "execution_count": 97,
      "outputs": []
    },
    {
      "cell_type": "markdown",
      "source": [
        "## Run"
      ],
      "metadata": {
        "id": "7DZ5Om7AHCMO"
      }
    },
    {
      "cell_type": "code",
      "source": [
        "start_time = time.time()\n",
        "# Step 1: Make the structure catalogue\n",
        "structure_catalogue = structure_catalogue_maker(Number_of_atoms=NumW)\n",
        "print (\"Catalogue maker: \", time.time() - start_time)\n",
        "\n",
        "### First define the experimental data path and the path you want the structure catalogue with fits to be saved\n",
        "Experimental_Data = StemName+\".gr\" # Name of the experimental file\n",
        "saveFits = StemName+\".txt\" # Name of the saved fits file\n",
        "# Load data and start model\n",
        "Exp_r, Exp_Gr, elements, xyz = Load(Experimental_Data, starting_model)\n",
        "print (\"Data loader: \", time.time() - start_time)\n",
        "\n",
        "### Step 2: Produce organized structure catalogue with Rwp values\n",
        "Result = fitting_multiprocess(structure_catalogue, formfactor_dict, Exp_r, Exp_Gr, elements, xyz, SaveName=saveFits, cores=None)\n",
        "print (\"Getting results: \", time.time() - start_time)\n",
        "\n",
        "# Step 3: Calculate Atom Contribution values\n",
        "m, AtomContributionValues = calculate_atomContributionValue(Result, \"./\")\n",
        "print (\"Calculating atom contribution values: \", time.time() - start_time)\n",
        "\n",
        "# Step 4: Output a CrystalMaker file\n",
        "Make_CrystalMakerFile(elements, xyz, AtomContributionValues, m, StemName, threshold)\n",
        "Make_VestaFile(elements, xyz, AtomContributionValues, m, StemName, threshold)\n",
        "print (\"Output a CrystalMaker file: \", time.time() - start_time)\n",
        "\n",
        "    "
      ],
      "metadata": {
        "colab": {
          "base_uri": "https://localhost:8080/"
        },
        "id": "3CN0to5nHBee",
        "outputId": "93d58639-c42f-4d2a-cd98-fa205122cf18"
      },
      "execution_count": 98,
      "outputs": [
        {
          "output_type": "stream",
          "name": "stdout",
          "text": [
            "Catalogue maker:  0.00027751922607421875\n",
            "Data loader:  4.190250635147095\n",
            "Getting results:  4.517596960067749\n",
            "Calculating atom contribution values:  4.534332275390625\n",
            "Output a CrystalMaker file:  4.60332465171814\n"
          ]
        }
      ]
    },
    {
      "cell_type": "markdown",
      "source": [
        "## Download results"
      ],
      "metadata": {
        "id": "gNfKq4GCKsaL"
      }
    },
    {
      "cell_type": "code",
      "source": [
        "# Download the latest results\n",
        "files.download(StemName + '_CrystalMaker.cmtx')\n",
        "files.download(StemName + '_Vesta.vesta')"
      ],
      "metadata": {
        "colab": {
          "base_uri": "https://localhost:8080/",
          "height": 17
        },
        "id": "KGfE97FcKnwN",
        "outputId": "8a78c742-5b8c-4aa6-b2bd-ff61e4f4be85"
      },
      "execution_count": 99,
      "outputs": [
        {
          "output_type": "display_data",
          "data": {
            "text/plain": [
              "<IPython.core.display.Javascript object>"
            ],
            "application/javascript": [
              "\n",
              "    async function download(id, filename, size) {\n",
              "      if (!google.colab.kernel.accessAllowed) {\n",
              "        return;\n",
              "      }\n",
              "      const div = document.createElement('div');\n",
              "      const label = document.createElement('label');\n",
              "      label.textContent = `Downloading \"${filename}\": `;\n",
              "      div.appendChild(label);\n",
              "      const progress = document.createElement('progress');\n",
              "      progress.max = size;\n",
              "      div.appendChild(progress);\n",
              "      document.body.appendChild(div);\n",
              "\n",
              "      const buffers = [];\n",
              "      let downloaded = 0;\n",
              "\n",
              "      const channel = await google.colab.kernel.comms.open(id);\n",
              "      // Send a message to notify the kernel that we're ready.\n",
              "      channel.send({})\n",
              "\n",
              "      for await (const message of channel.messages) {\n",
              "        // Send a message to notify the kernel that we're ready.\n",
              "        channel.send({})\n",
              "        if (message.buffers) {\n",
              "          for (const buffer of message.buffers) {\n",
              "            buffers.push(buffer);\n",
              "            downloaded += buffer.byteLength;\n",
              "            progress.value = downloaded;\n",
              "          }\n",
              "        }\n",
              "      }\n",
              "      const blob = new Blob(buffers, {type: 'application/binary'});\n",
              "      const a = document.createElement('a');\n",
              "      a.href = window.URL.createObjectURL(blob);\n",
              "      a.download = filename;\n",
              "      div.appendChild(a);\n",
              "      a.click();\n",
              "      div.remove();\n",
              "    }\n",
              "  "
            ]
          },
          "metadata": {}
        },
        {
          "output_type": "display_data",
          "data": {
            "text/plain": [
              "<IPython.core.display.Javascript object>"
            ],
            "application/javascript": [
              "download(\"download_7ab3a98c-2b39-4649-9eb4-99016aa9905f\", \"Al-Mo15-rsub_dioptas_CrystalMaker.cmtx\", 9903)"
            ]
          },
          "metadata": {}
        },
        {
          "output_type": "display_data",
          "data": {
            "text/plain": [
              "<IPython.core.display.Javascript object>"
            ],
            "application/javascript": [
              "\n",
              "    async function download(id, filename, size) {\n",
              "      if (!google.colab.kernel.accessAllowed) {\n",
              "        return;\n",
              "      }\n",
              "      const div = document.createElement('div');\n",
              "      const label = document.createElement('label');\n",
              "      label.textContent = `Downloading \"${filename}\": `;\n",
              "      div.appendChild(label);\n",
              "      const progress = document.createElement('progress');\n",
              "      progress.max = size;\n",
              "      div.appendChild(progress);\n",
              "      document.body.appendChild(div);\n",
              "\n",
              "      const buffers = [];\n",
              "      let downloaded = 0;\n",
              "\n",
              "      const channel = await google.colab.kernel.comms.open(id);\n",
              "      // Send a message to notify the kernel that we're ready.\n",
              "      channel.send({})\n",
              "\n",
              "      for await (const message of channel.messages) {\n",
              "        // Send a message to notify the kernel that we're ready.\n",
              "        channel.send({})\n",
              "        if (message.buffers) {\n",
              "          for (const buffer of message.buffers) {\n",
              "            buffers.push(buffer);\n",
              "            downloaded += buffer.byteLength;\n",
              "            progress.value = downloaded;\n",
              "          }\n",
              "        }\n",
              "      }\n",
              "      const blob = new Blob(buffers, {type: 'application/binary'});\n",
              "      const a = document.createElement('a');\n",
              "      a.href = window.URL.createObjectURL(blob);\n",
              "      a.download = filename;\n",
              "      div.appendChild(a);\n",
              "      a.click();\n",
              "      div.remove();\n",
              "    }\n",
              "  "
            ]
          },
          "metadata": {}
        },
        {
          "output_type": "display_data",
          "data": {
            "text/plain": [
              "<IPython.core.display.Javascript object>"
            ],
            "application/javascript": [
              "download(\"download_f1bf9f76-0cfe-455c-a1b2-d1044ff96ac3\", \"Al-Mo15-rsub_dioptas_Vesta.vesta\", 15308)"
            ]
          },
          "metadata": {}
        }
      ]
    },
    {
      "cell_type": "markdown",
      "source": [
        "# visualisation of the structure"
      ],
      "metadata": {
        "id": "mpinHrsquU_a"
      }
    },
    {
      "cell_type": "code",
      "source": [
        "#%matplotlib widget\n",
        "#!pip install ipympl ase nglview\n",
        "from ase.visualize import view\n",
        "from ase.io import read\n",
        "from google.colab import output\n",
        "from ipywidgets import interact, interactive\n",
        "output.enable_custom_widget_manager()\n",
        "\n",
        "def visualize_structure(max_AtomContributionValue):\n",
        "  Structure_visualize = read(starting_model)\n",
        "  for i in reversed(range(len(AtomContributionValues))):\n",
        "      if AtomContributionValues[i] > max_AtomContributionValue:\n",
        "        Structure_visualize.pop(i)\n",
        "  return view(Structure_visualize, viewer=\"ngl\")\n",
        "\n",
        "#interactive(visualize_structure, max_AtomContributionValue=(0.0, 1.0))\n",
        "visualize_structure(max_AtomContributionValue=0.465)"
      ],
      "metadata": {
        "id": "4eBwLSoXubNy",
        "outputId": "314dafd8-f63e-457b-8ceb-849340468ccd",
        "colab": {
          "base_uri": "https://localhost:8080/",
          "height": 517,
          "referenced_widgets": [
            "2cc7855552bf483685dd06e0c33d3265",
            "28ec74fd77084fef9dc8227dc994dde8",
            "57067f70d4f447369f54efd8784c7cb2",
            "f84fea8e6fb74a27ab621ff1523b80ae",
            "30f934e26e5e4c949edb6149e8a5f97b",
            "2c5c89320ab8429daba3cf018d7f0caf",
            "71ccac6139ee430687ffafcadb2dcd6b",
            "1af92651d3b0487d9eac99892becb02a",
            "6f6fb0722bfe4645a64f10c93944e838",
            "96e0ccadfa5b4f308fa55cfd176c2471",
            "a11ec84860784634ba3bd495192a631d",
            "b43bb09ca21848978760c1ac9e37314b",
            "224200025a384b6a8548f9f352edaadf",
            "0a82c306a67e45db8a046ff53fad9ea8",
            "60eb5ebc8e434e6784cc1c258940dd50",
            "5063f1655ba946a78c1b894594b01734",
            "36eb870ad3c64b7a9c60971f37174bd7",
            "0bf7b51f4b2e40fdbce95d9d58560949",
            "fd8d54700e7e42889d4951c9d1da806e",
            "21b9387185ff4fa3bdb70782e0d15c9c",
            "a6af88f73d9c4d309ec0644f8736bc3d",
            "930ac493033c46f0a2d1817b1e50c925",
            "486e80e0b5ff4fd1a8659555d3f6a99c",
            "50590b5de8b84f67a060e21c312880ab",
            "1efd2804d1554d2f99f7dfe17dda980e",
            "6ffdd46ab7d8476bb6338e4d0e1e1607"
          ]
        }
      },
      "execution_count": null,
      "outputs": [
        {
          "output_type": "display_data",
          "data": {
            "text/plain": [
              "HBox(children=(NGLWidget(), VBox(children=(Dropdown(description='Show', options=('All', 'W', 'O'), value='All'…"
            ],
            "application/vnd.jupyter.widget-view+json": {
              "version_major": 2,
              "version_minor": 0,
              "model_id": "2cc7855552bf483685dd06e0c33d3265"
            }
          },
          "metadata": {
            "application/vnd.jupyter.widget-view+json": {
              "colab": {
                "custom_widget_manager": {
                  "url": "https://ssl.gstatic.com/colaboratory-static/widgets/colab-cdn-widget-manager/d2e234f7cc04bf79/manager.min.js"
                }
              }
            }
          }
        }
      ]
    },
    {
      "cell_type": "code",
      "source": [
        "#%matplotlib widget\n",
        "#!pip install ipympl ase nglview\n",
        "from ase.visualize import view\n",
        "from ase.io import read\n",
        "from google.colab import output\n",
        "from ipywidgets import interact, interactive\n",
        "from ase.visualize.plot import plot_atoms\n",
        "output.enable_custom_widget_manager()\n",
        "\n",
        "def visualize_structure(max_AtomContributionValue):\n",
        "  Structure_visualize = read(starting_model)\n",
        "  for i in reversed(range(len(AtomContributionValues))):\n",
        "      if AtomContributionValues[i] > max_AtomContributionValue:\n",
        "        Structure_visualize.pop(i)\n",
        "  return plot_atoms(Structure_visualize, radii=0.5)\n",
        "  \n",
        "\n",
        "interactive(visualize_structure, max_AtomContributionValue=(0.0, 1.0))\n",
        "\n"
      ],
      "metadata": {
        "id": "iDzBy9RJGxnS",
        "outputId": "e5f4b682-9c4a-4bc4-e0b9-67cd1fb18050",
        "colab": {
          "base_uri": "https://localhost:8080/",
          "height": 297,
          "referenced_widgets": [
            "fc6339b9a8cc4907b93ec3527b0fb02b",
            "4780d190922644a6969e177ca694a2e6",
            "599f0a3e47a3492dbb730be107d8d521",
            "04ff0662feef441ab885efc7f77ca3a2",
            "dc714c7368cf4ac9b5a13b9617543c4c",
            "e32a1fe7d47a450ea37eeb4c40a49211",
            "5136fa6a79b44139aabec575624a5e87"
          ]
        }
      },
      "execution_count": null,
      "outputs": [
        {
          "output_type": "display_data",
          "data": {
            "text/plain": [
              "interactive(children=(FloatSlider(value=0.5, description='max_AtomContributionValue', max=1.0), Output()), _do…"
            ],
            "application/vnd.jupyter.widget-view+json": {
              "version_major": 2,
              "version_minor": 0,
              "model_id": "fc6339b9a8cc4907b93ec3527b0fb02b"
            }
          },
          "metadata": {
            "application/vnd.jupyter.widget-view+json": {
              "colab": {
                "custom_widget_manager": {
                  "url": "https://ssl.gstatic.com/colaboratory-static/widgets/colab-cdn-widget-manager/d2e234f7cc04bf79/manager.min.js"
                }
              }
            }
          }
        }
      ]
    },
    {
      "cell_type": "code",
      "source": [
        "import nglview\n",
        "Structure_visualize = read(starting_model)\n",
        "bom = view(Structure_visualize, viewer=\"ngl\")\n",
        "nglview.write_html(\"C60_a.html\", bom)"
      ],
      "metadata": {
        "id": "iTvxON9xKVy8"
      },
      "execution_count": null,
      "outputs": []
    },
    {
      "cell_type": "code",
      "source": [
        "start_time = time.time()\n",
        "index = 3\n",
        "NumW = 36 # Number of atoms that should be permuted in the starting model\n",
        "\n",
        "# Step 1: Make the structure catalogue\n",
        "structure_catalogue = structure_catalogue_maker(Number_of_atoms=NumW)\n",
        "\n",
        "### First define the experimental data path and the path you want the structure catalogue with fits to be saved\n",
        "Experimental_Data = StemName+\".gr\" # Name of the experimental file\n",
        "# Load data and start model\n",
        "Exp_r, Exp_Gr, elements, xyz = Load(Experimental_Data, starting_model)\n",
        "\n",
        "# Cycle through W atoms and delete W according to index 0's from permutation\n",
        "delete_M = np.where(np.array(structure_catalogue)[index,:] == 0)[0]\n",
        "\n",
        "# Delete atoms from starting model \n",
        "elements = np.delete(elements, delete_M, 0)\n",
        "xyz = np.delete(xyz, delete_M, 0)\n",
        "elements = [int(formfactor_dict[element]) for element in elements]\n",
        "\n",
        "# Delete oxygen atoms that are to far away from metal atoms\n",
        "oxygens, non_oxygens = np.where(np.array(elements) == 8)[0], np.where(np.array(elements) != 8)[0]\n",
        "for oxygen_atom in reversed(oxygens):\n",
        "  dists = np.sqrt((xyz[oxygen_atom,0]-xyz[non_oxygens,0])**2+(xyz[oxygen_atom,1]-xyz[non_oxygens,1])**2+(xyz[oxygen_atom,2]-xyz[non_oxygens,2])**2)\n",
        "  min_dist = min(dists)\n",
        "  if min_dist > threshold:\n",
        "    elements = np.delete(elements, oxygen_atom, 0)\n",
        "    xyz = np.delete(xyz, oxygen_atom, 0)\n",
        "\n",
        "# Calculate distances and formfactor to simulate PDF\n",
        "i, j = np.triu_indices(len(xyz), k=1)\n",
        "dists = np.sqrt((xyz[i,0]-xyz[j,0])**2+(xyz[i,1]-xyz[j,1])**2+(xyz[i,2]-xyz[j,2])**2)\n",
        "formfactor = np.array(elements)[i] * np.array(elements)[j]\n",
        "normalisation_factor = np.array(np.mean(np.array(elements)) ** 2).repeat(len(j), axis=0)\n",
        "formfactor = np.array(formfactor) / np.array(normalisation_factor)\n",
        "\n",
        "print (time.time() - start_time)"
      ],
      "metadata": {
        "id": "YIxa9og-RIBn",
        "colab": {
          "base_uri": "https://localhost:8080/"
        },
        "outputId": "978ba88c-0210-44bd-a972-0dc4d950c840"
      },
      "execution_count": 79,
      "outputs": [
        {
          "output_type": "stream",
          "name": "stdout",
          "text": [
            "3.855292558670044\n"
          ]
        }
      ]
    },
    {
      "cell_type": "code",
      "source": [],
      "metadata": {
        "id": "UWG2VXb0la8U"
      },
      "execution_count": null,
      "outputs": []
    }
  ]
}