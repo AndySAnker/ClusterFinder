{
  "nbformat": 4,
  "nbformat_minor": 0,
  "metadata": {
    "colab": {
      "name": "MotEx.ipynb",
      "provenance": [],
      "collapsed_sections": [],
      "authorship_tag": "ABX9TyOB2qIdt9hqKFFfaC7/pGIz",
      "include_colab_link": true
    },
    "kernelspec": {
      "name": "python3",
      "display_name": "Python 3"
    },
    "language_info": {
      "name": "python"
    }
  },
  "cells": [
    {
      "cell_type": "markdown",
      "metadata": {
        "id": "view-in-github",
        "colab_type": "text"
      },
      "source": [
        "<a href=\"https://colab.research.google.com/github/AndySAnker/fast-MotEx/blob/main/MotEx.ipynb\" target=\"_parent\"><img src=\"https://colab.research.google.com/assets/colab-badge.svg\" alt=\"Open In Colab\"/></a>"
      ]
    },
    {
      "cell_type": "markdown",
      "source": [
        "# First download anaconda"
      ],
      "metadata": {
        "id": "zsUH1SkNcXvS"
      }
    },
    {
      "cell_type": "code",
      "source": [
        "%%capture\n",
        "%%bash \n",
        "MINICONDA_INSTALLER_SCRIPT=Miniconda3-latest-Linux-x86_64.sh\n",
        "MINICONDA_PREFIX=/usr/local\n",
        "wget https://repo.continuum.io/miniconda/$MINICONDA_INSTALLER_SCRIPT\n",
        "chmod +x $MINICONDA_INSTALLER_SCRIPT\n",
        "./$MINICONDA_INSTALLER_SCRIPT -b -f -p $MINICONDA_PREFIX\n"
      ],
      "metadata": {
        "id": "Nj2xoZEFcnDb"
      },
      "execution_count": 1,
      "outputs": []
    },
    {
      "cell_type": "markdown",
      "source": [
        "# Download DiffPy-CMI"
      ],
      "metadata": {
        "id": "zdTwoCCteBbo"
      }
    },
    {
      "cell_type": "code",
      "source": [
        "%%capture\n",
        "!conda create -n diffpy -c defaults -c diffpy python=3.7 diffpy-cmi pandas --yes\n",
        "!cp -r /usr/local/envs/diffpy/lib/python3.7/site-packages/diffpy.srfit-3.0.0-py3.7.egg/diffpy/* /usr/local/envs/diffpy/lib/python3.7/site-packages/diffpy/\n",
        "!cp -r /usr/local/envs/diffpy/lib/python3.7/site-packages/diffpy.structure-3.0.1-py3.7.egg/diffpy/* /usr/local/envs/diffpy/lib/python3.7/site-packages/diffpy/\n",
        "!cp -r /usr/local/envs/diffpy/lib/python3.7/site-packages/diffpy.utils-3.0.0-py3.7.egg/diffpy/* /usr/local/envs/diffpy/lib/python3.7/site-packages/diffpy/\n",
        "\n",
        "import sys\n",
        "sys.path.insert(1, \"/usr/local/envs/diffpy/lib/python3.7/site-packages\")"
      ],
      "metadata": {
        "id": "2sQ-K82BcnFd"
      },
      "execution_count": 2,
      "outputs": []
    },
    {
      "cell_type": "markdown",
      "source": [
        "# Import modules and functions"
      ],
      "metadata": {
        "id": "l6-llHW5eIYW"
      }
    },
    {
      "cell_type": "code",
      "source": [
        "%%capture\n",
        "!git clone https://github.com/AndySAnker/fast-MotEx.git\n",
        "!apt install ase\n",
        "import numpy as np\n",
        "import matplotlib as mpl\n",
        "import matplotlib.cm\n",
        "import time, random\n",
        "from scipy.optimize.minpack import leastsq\n",
        "from diffpy.Structure import Structure, Atom\n",
        "from diffpy.srfit.pdf import PDFContribution, PDFParser, PDFGenerator\n",
        "from diffpy.srfit.fitbase import FitRecipe, FitResults, Profile, FitContribution\n",
        "from diffpy.srreal.pdfcalculator import DebyePDFCalculator\n",
        "from multiprocessing import Pool\n",
        "from functools import partial\n",
        "from ase.io import read\n",
        "from google.colab import output, files\n",
        "\n",
        "random.seed(14)\n",
        "np.random.seed(14)"
      ],
      "metadata": {
        "id": "CXbklySJc0IL"
      },
      "execution_count": 3,
      "outputs": []
    },
    {
      "cell_type": "code",
      "source": [
        "def structure_catalogue_maker(Number_of_atoms):\n",
        "    \"\"\"Makes a catalogue of structures\"\"\"\n",
        "    \n",
        "    structure_catalogue = np.ones((Number_of_atoms,Number_of_atoms))\n",
        "    structure_catalogue[np.array([range(Number_of_atoms)]),np.array([range(Number_of_atoms)])] = 0\n",
        "    return structure_catalogue\n",
        "\n",
        "def Load(Experimental_Data, starting_model):\n",
        "    \"\"\"This function loads the data and structure\"\"\"\n",
        "    \n",
        "    # Get experimental data\n",
        "    for skip_row in range(100):\n",
        "        try:\n",
        "            Exp_data = np.loadtxt(Experimental_Data, skiprows=skip_row)\n",
        "        except ValueError:\n",
        "            continue\n",
        "    # Nyquist sampling the data by only using every 10nth datapoint\n",
        "    if Exp_data[1,0] - Exp_data[0,0] < 0.1:\n",
        "        Exp_r, Exp_Gr = Exp_data[::10,0], Exp_data[::10,1]\n",
        "    else:\n",
        "        Exp_r, Exp_Gr = Exp_data[:,0], Exp_data[:,1]\n",
        "    # Normalise data\n",
        "    Exp_Gr /= max(Exp_Gr)\n",
        "\n",
        "    # Read structure and divide it into two lists: Atoms we want to iterate (W) and atoms we do not iterate (O)\n",
        "    struct=[]\n",
        "    with open(starting_model, 'r') as fi:\n",
        "        for line in fi.readlines():\n",
        "            sep_line=line.strip('{}\\n\\r ').split()\n",
        "            if len(sep_line)==4: #  tillader andre informationer i xyz filen some ikke skal laeses\n",
        "                struct.append(sep_line)\n",
        "    elements=np.array(struct)[:,0]\n",
        "    xyz=(np.array(struct)[:,1:].astype(float))\n",
        "    \n",
        "    return Exp_r, Exp_Gr, elements, xyz\n",
        "\n",
        "def format_XYZ(starting_model, allowed_atoms):\n",
        "\t# Read structure and divide it into two lists: Atoms we want to iterate and atoms we do not iterate.\n",
        "\t# Save the file in this new format and get number of atoms that we iterate.\n",
        "\tpermutable_struct = []\n",
        "\tnonpermutable_struct = []\n",
        "\twith open(starting_model, 'r') as fi:\n",
        "\t\tfor line in fi.readlines():\n",
        "\t\t\tsep_line=line.strip('{}\\n\\r ').split()\n",
        "\t\t\tif len(sep_line)==4: #  tillader andre informationer i xyz filen some ikke skal laeses\n",
        "\t\t\t\tif sep_line[0] in allowed_atoms:\n",
        "\t\t\t\t\tpermutable_struct.append(sep_line)\n",
        "\t\t\t\telse:\n",
        "\t\t\t\t\tnonpermutable_struct.append(sep_line)\n",
        "\tstruct = permutable_struct + nonpermutable_struct\n",
        "\n",
        "\tNew_XYZ = open(starting_model, \"w\")\n",
        "\tNew_XYZ.write(str(len(struct)) + \"\\n\\n\")\n",
        "\tfor i in range(len(struct)):\n",
        "\t\tNew_XYZ.write(str(struct[i]).replace(\"[\", \"\").replace(\"]\", \"\").replace(\"'\", \"\").replace(\",\", \"\") + \"\\n\")\n",
        "\tNew_XYZ.close()\n",
        "\n",
        "\tNum_permutable_atoms = len(permutable_struct)\n",
        "\treturn Num_permutable_atoms\n",
        "\n",
        "def fitting(structure_catalogue, xyz, atom_ph, Qmin, Qmax, Qdamp, rmin, rmax, plot, index):\n",
        "    \"\"\"This function takes in a 'starting_model', and an 'index' from the 'structure_catalogue'. It generates the \n",
        "    corresponding structure and fit it to the 'Experimental_Data'.\"\"\"\n",
        "    \n",
        "    xyz_Mo = xyz[:NumMo].copy()\n",
        "    xyz_O = xyz[NumMo:len(xyz)].copy()\n",
        "    keep_O = np.zeros(len(xyz_O))\n",
        "    # Cycle through W atoms and delete W according to index 0's from permutation\n",
        "    delete_M = np.where(np.array(structure_catalogue)[index,:] == 0)[0]\n",
        "\n",
        "    # Delete atoms from starting model \n",
        "    xyz_Mo = np.delete(xyz_Mo, delete_M, 0)\n",
        "\n",
        "    # Cycle through all atoms that is not iteratable and test if it is within the threshold distance. Delete atoms with no bonds\n",
        "    for j in range(len(xyz_O)):\n",
        "        dists = np.sqrt((xyz_Mo[:,0]-xyz_O[j,0])**2+(xyz_Mo[:,1]-xyz_O[j,1])**2+(xyz_Mo[:,2]-xyz_O[j,2])**2)\n",
        "        if np.min(dists) < threshold:    \n",
        "            keep_O[j] = 1\n",
        "\n",
        "    # Cycle through W atoms and delete W according to index 0's from permutation\n",
        "    delete_O = np.where(np.array(keep_O) == 0)[0]\n",
        "    # Delete atoms from starting model \n",
        "    xyz_O = np.delete(xyz_O, delete_O, 0)\n",
        "\n",
        "    # Create structure for iterable (W) and non-iterable (O) atoms and combine them\n",
        "    Mo_cluster = Structure([Atom(atom_ph, xi) for xi in xyz_Mo])\n",
        "    O_cluster = Structure([Atom('O', xi) for xi in xyz_O])\n",
        "    cluster = Mo_cluster + O_cluster\n",
        "    \n",
        "    # Make a standard cluster refinement using Diffpy-CMI\n",
        "    # Import the data and make it a PDFprofile. Define the range of the data that will be used in the fit.\n",
        "    pdfprofile = Profile()\n",
        "    pdfparser = PDFParser()\n",
        "    pdfparser.parseFile(Experimental_Data)\n",
        "    pdfprofile.loadParsedData(pdfparser)\n",
        "    pdfprofile.setCalculationRange(xmin = rmin, xmax = rmax)\n",
        "\n",
        "    # Setup the PDFgenerator that calculates the PDF from the structure\n",
        "    pdfgenerator_cluster = PDFGenerator(\"G\")\n",
        "    # Add the profile and both generators to the PDFcontribution\n",
        "    pdfcontribution = FitContribution(\"pdf\")\n",
        "    pdfcontribution.setProfile(pdfprofile, xname=\"r\") \n",
        "    pdfcontribution.addProfileGenerator(pdfgenerator_cluster)\n",
        "    \n",
        "    pdfgenerator_cluster.setQmin(Qmin)\n",
        "    pdfgenerator_cluster.setQmax(Qmax)\n",
        "    pdfgenerator_cluster._calc.evaluatortype = 'OPTIMIZED'\n",
        "    pdfgenerator_cluster.setStructure(cluster, periodic = False)\n",
        "\n",
        "    # Use scaling factors proportional to molar content\n",
        "    pdfcontribution.setEquation('mc*G')\n",
        "\n",
        "    # Define the recipe to do the fit and add it to the PDFcontribution\n",
        "    recipe = FitRecipe()\n",
        "    recipe.addContribution(pdfcontribution)\n",
        "\n",
        "    # Avoid too much output during fitting \n",
        "    recipe.clearFitHooks()\n",
        "\n",
        "    # Add the scale factor.\n",
        "    recipe.addVar(pdfcontribution.mc, 1.0, tag = \"scale\")\n",
        "    \n",
        "    # Add the instrumental parameters to the two generators\n",
        "    pdfgenerator_cluster.qdamp.value = Qdamp\n",
        "    #pdfgenerator_cluster.qbroad.value = 0.00\n",
        "\n",
        "    # Add the delta2 parameters, and make sure it cannot take unphysical values\n",
        "    #recipe.addVar(pdfgenerator_cluster.delta2, 0, name = \"delta2_cluster\", tag = \"delta2\")\n",
        "    #recipe.restrain(\"delta2_cluster\", lb=0, ub = 7, sig=0.001);\n",
        "    \n",
        "    # Add ADP and \"cell\" for the cluster\n",
        "    phase_cluster = pdfgenerator_cluster.phase\n",
        "    atoms = phase_cluster.getScatterers()\n",
        "    lat = phase_cluster.getLattice()\n",
        "\n",
        "    recipe.newVar(\"zoomscale\", 1.0, tag = \"lat\")\n",
        "    recipe.constrain(lat.a, 'zoomscale')\n",
        "    recipe.constrain(lat.b, 'zoomscale')\n",
        "    recipe.constrain(lat.c, 'zoomscale')\n",
        "    recipe.restrain(\"zoomscale\", lb=0.95, ub = 1.05, sig=0.001)\n",
        "    \n",
        "    Mo_cluster = recipe.newVar(\"Mo_Biso_cluster\", 0.3, tag = 'adp_Mo')\n",
        "    O_cluster = recipe.newVar(\"O_Biso_cluster\", 0.4, tag = 'adp_O')\n",
        "\n",
        "    for atom in atoms:\n",
        "        if atom.element.title() == atom_ph:\n",
        "            recipe.constrain(atom.Biso, Mo_cluster)\n",
        "        elif atom.element.title() == \"O\":\n",
        "            recipe.constrain(atom.Biso, O_cluster)\n",
        "\n",
        "    recipe.restrain(\"Mo_Biso_cluster\", lb=0.08, ub = 3, sig=0.001)\n",
        "    recipe.restrain(\"O_Biso_cluster\", lb=0.08, ub = 3, sig=0.001)\n",
        "\n",
        "    pos_limit1 = 0.05\n",
        "    pos_limit2 = 0.02\n",
        "    pos_limit3 = 0.02\n",
        "\n",
        "    for atom in atoms:\n",
        "        if atom.element == atom_ph:\n",
        "            recipe.addVar(atom.x, name=atom.name+'_x1', tag='xyz1')\n",
        "            recipe.addVar(atom.y, name=atom.name+'_y1', tag='xyz1')\n",
        "            recipe.addVar(atom.z, name=atom.name+'_z1', tag='xyz1')       \n",
        "            #restrain atomic positions\n",
        "            lbx = atom.x.value-pos_limit1\n",
        "            ubx = atom.x.value+pos_limit1\n",
        "            recipe.restrain(atom.x, lb=lbx, ub = ubx, sig=0.001)\n",
        "            lby = atom.y.value-pos_limit1\n",
        "            uby = atom.y.value+pos_limit1\n",
        "            recipe.restrain(atom.y, lb=lby, ub = uby, sig=0.001)\n",
        "            lbz = atom.z.value-pos_limit1\n",
        "            ubz = atom.z.value+pos_limit1\n",
        "            recipe.restrain(atom.y, lb=lby, ub = uby, sig=0.001)\n",
        "\n",
        "    #free parameters are set\n",
        "    recipe.fix('all')\n",
        "    recipe.free(\"scale\")\n",
        "    leastsq(recipe.residual, recipe.getValues())\n",
        "    recipe.free(\"lat\")\n",
        "    leastsq(recipe.residual, recipe.getValues())\n",
        "    #recipe.free(\"adp_Mo\")\n",
        "    #leastsq(recipe.residual, recipe.getValues())\n",
        "    #recipe.free(\"adp_O\")\n",
        "    #leastsq(recipe.residual, recipe.getValues())\n",
        "    #recipe.free(\"xyz1\")\n",
        "    #leastsq(recipe.residual, recipe.getValues())\n",
        "    \n",
        "    # Turn off printout of iteration number.\n",
        "    #recipe.clearFitHooks()\n",
        "   \n",
        "    # We calculate the goodness-of-fit, Rwp\n",
        "    g = recipe.pdf.profile.y\n",
        "    gcalc = recipe.pdf.evaluate()\n",
        "    rfactor1 = np.sqrt(sum((g - gcalc)**2) / sum((g)**2))\n",
        "    \n",
        "    # if plot == 1 it will also plot the fit\n",
        "    if plot == 1:\n",
        "        print (\"FIT RESULTS\\n\")\n",
        "        res1 = FitResults(recipe)\n",
        "        print (res1)\n",
        "\n",
        "        # Plot the observed and refined PDF.\n",
        "        # Get the experimental data from the recipe\n",
        "        r = recipe.pdf.profile.x\n",
        "        gobs = recipe.pdf.profile.y\n",
        "\n",
        "        # Get the calculated PDF and compute the difference between the calculated and measured PDF\n",
        "        gcalc = recipe.pdf.evaluate()\n",
        "        baseline = 1.1 * gobs.min()\n",
        "        gdiff = gobs - gcalc\n",
        "\n",
        "        # Plot!\n",
        "        plt.figure()\n",
        "        plt.plot(r, gobs, 'bo', label=\"G(r) data\")\n",
        "        plt.plot(r, gcalc, 'r-', label=\"G(r) fit\")\n",
        "        plt.plot(r, gdiff + baseline, 'g-', label=\"G(r) diff\")\n",
        "        plt.plot(r, np.zeros_like(r) + baseline, 'k:')\n",
        "        plt.xlabel(r\"$r (\\AA)$\")\n",
        "        plt.ylabel(r\"$G (\\AA^{-2})$\")\n",
        "        plt.legend()\n",
        "\n",
        "        plt.show()\n",
        "    return 1-rfactor1\n",
        "\n",
        "def fitting_multiprocess(structure_catalogue, xyz, atom_ph, Qmin, Qmax, Qdamp, rmin, rmax, SaveName, cores=1):\n",
        "    \"\"\"This function runs the refinement of all the structures in the structure catalogue using multiprocessing\"\"\"\n",
        "    start_time = time.time()\n",
        "    values = []\n",
        "    # Set up multiprocessing refinement\n",
        "    fitindex = range(len(structure_catalogue))\n",
        "    p = Pool(processes=cores)\n",
        "    plot = 0\n",
        "    \n",
        "    func = partial(fitting, structure_catalogue, xyz, atom_ph, Qmin, Qmax, Qdamp, rmin, rmax, plot)\n",
        "    results = p.map(func, fitindex)\n",
        "    p.close()\n",
        "    p.join()\n",
        "    \n",
        "    # Start refinement and append results to lists\n",
        "    for i in fitindex:\n",
        "        if i % 100 == 0:\n",
        "            print (\"I have now fitted: \", str(i) + \" structures out of \" + str(len(structure_catalogue)))\n",
        "        rw = results[i]\n",
        "        values.append(rw)\n",
        "    values = np.reshape(values,(int(len(values)/1) , 1))\n",
        "    \n",
        "    # Save results in format that is suitable for Machine Learning\n",
        "    Result = np.column_stack([values, np.asarray(structure_catalogue)])\n",
        "    np.savetxt(SaveName, Result)\n",
        "    return Result\n",
        "\n",
        "def calculate_atomContributionValue(Result, saveResults):\n",
        "    \"\"\"Calculate atom contribution value list from the result array\"\"\"\n",
        "    \n",
        "    # Define AtomContributionValues vector\n",
        "    AtomContributionValues = Result[:,0]\n",
        "    \n",
        "    # Normalise the AtomContributionValues\n",
        "    amin, amax = min(AtomContributionValues), max(AtomContributionValues)\n",
        "    AtomContributionValues = (AtomContributionValues - amin) / (amax - amin)\n",
        "    AtomContributionValues_ph = AtomContributionValues.copy()\n",
        "    AtomContributionValues_ph.sort()\n",
        "\n",
        "    # Define colormap of viridis.reverse\n",
        "    norm = mpl.colors.Normalize(vmin=AtomContributionValues_ph[round((len(AtomContributionValues))/10)], vmax=AtomContributionValues_ph[-round((len(AtomContributionValues))/10)])\n",
        "    cmap = matplotlib.cm.cividis_r\n",
        "    m = mpl.cm.ScalarMappable(norm=norm, cmap=cmap)\n",
        "    \n",
        "    # Save results to file\n",
        "    f = open(saveResults+\"AtomContributionValues_MotEx.txt\", \"w\")\n",
        "    f.write(\"\\nAtom contribution are calculated to: \\n\")\n",
        "    for i in range(len(AtomContributionValues)):\n",
        "        f.write(\"Atom # \"+ str(i+1) + \":  \"+ str(AtomContributionValues[i]) + \"  Colorcode:  \"+ mpl.colors.rgb2hex(m.to_rgba(AtomContributionValues[i]))+\"\\n\")\n",
        "    \n",
        "    return m, AtomContributionValues\n",
        "\n",
        "def Make_CrystalMakerFile(elements, xyz, AtomContributionValues, m, saveResults, threshold):\n",
        "    # Read bonds and colors of all atoms\n",
        "    bonding = []\n",
        "    with open(\"fast-MotEx/utils/Bonding.txt\", 'r') as fi:\n",
        "        for line in fi.readlines():\n",
        "            sep_line=line.strip('{}\\n\\r ').split()\n",
        "            bonding.append(sep_line)\n",
        "    bonding = np.array(bonding)\n",
        "    \n",
        "    # Output a crystalmaker file to visualize the results\n",
        "    CrystalMaker = open(saveResults + '_CrystalMaker.cmtx', 'w')\n",
        "\n",
        "    CrystalMaker.write(\"MOLE  CrystalMaker molecule format\\n\")\n",
        "    CrystalMaker.write(\"TITL  Molecule\\n\\n\")\n",
        "    CrystalMaker.write(\"! Model type\\n\")\n",
        "    CrystalMaker.write(\"MODL  1\\n\\n\")\n",
        "\n",
        "    CrystalMaker.write(\"! Depth fading settings\\n\")\n",
        "    CrystalMaker.write(\"DCUE  1.000000 0.212899 0.704686\\n\\n\")\n",
        "\n",
        "    CrystalMaker.write(\"! Colour definitions:\\n\")\n",
        "    CrystalMaker.write(\"TYPE\\n\")\n",
        "\n",
        "    # Assign colors to all the atoms\n",
        "    for iter, element in enumerate(elements):\n",
        "        if iter < NumW:\n",
        "            #CrystalMaker.write(element + str(iter+1) + \" 1.32 \")\n",
        "            CrystalMaker.write(element + str(iter+1) + \" \" + bonding[np.where(bonding == element)[0][0], 1] + \" \")\n",
        "            rgb1 = m.to_rgba(AtomContributionValues[iter])[:-1][0]\n",
        "            rgb2 = m.to_rgba(AtomContributionValues[iter])[:-1][1]\n",
        "            rgb3 = m.to_rgba(AtomContributionValues[iter])[:-1][2]\n",
        "            CrystalMaker.write(str(rgb1) + \" \" + str(rgb2) + \" \" + str(rgb3))\n",
        "            CrystalMaker.write(\"\\n\")\n",
        "        else:\n",
        "            #CrystalMaker.write(element + str(iter+1) + \" 0.66 \")\n",
        "            CrystalMaker.write(element + str(iter+1) + \" \" + bonding[np.where(bonding == element)[0][0], 1] + \" \")\n",
        "            rgb1 = int(float(bonding[np.where(bonding == element)[0][0], 2])*255) #mpl.colors.to_rgb(\"#FF0000\")[0]\n",
        "            rgb2 = int(float(bonding[np.where(bonding == element)[0][0], 3])*255) #mpl.colors.to_rgb(\"#FF0000\")[1]\n",
        "            rgb3 = int(float(bonding[np.where(bonding == element)[0][0], 4])*255) #mpl.colors.to_rgb(\"#FF0000\")[2]\n",
        "            CrystalMaker.write(str(rgb1) + \" \" + str(rgb2) + \" \" + str(rgb3))\n",
        "            CrystalMaker.write(\"\\n\")\n",
        "    \n",
        "    CrystalMaker.write(\"\\n\")\n",
        "    CrystalMaker.write(\"! Atoms list\\n\")\n",
        "    CrystalMaker.write(\"! Bond Specifications\\n\")\n",
        "    \n",
        "    # Assign bonds between the atoms\n",
        "    for iter, element in enumerate(elements):\n",
        "        if iter < NumW:\n",
        "            NI_elements = np.delete(np.unique(elements), np.where(np.unique(elements) == element)[0])\n",
        "            for NI_element in NI_elements:\n",
        "                CrystalMaker.write(\"BMAX \" + element + \" \" + str(NI_element) + \"  \" + str(threshold))\n",
        "                CrystalMaker.write(\"\\n\")\n",
        "    \n",
        "    CrystalMaker.write(\"\\n\")\n",
        "    CrystalMaker.write(\"! Atoms list\\n\")\n",
        "    CrystalMaker.write(\"ATOM\\n\")\n",
        "    \n",
        "    # Assign coordinates to the atoms\n",
        "    for iter, element in enumerate(elements):\n",
        "        if iter < NumW:\n",
        "            CrystalMaker.write(element + \" \" + element + str(iter+1) + \" \" + str(xyz[iter][0]) + \" \" + str(xyz[iter][1]) + \" \" + str(xyz[iter][2]) + \"\\n\")\n",
        "        else:\n",
        "            CrystalMaker.write(element + \" \" + element + str(iter+1) + \" \" + str(xyz[iter][0]) + \" \" + str(xyz[iter][1]) + \" \" + str(xyz[iter][2]) + \"\\n\")\n",
        "\n",
        "    CrystalMaker.close()\n",
        "    \n",
        "    return None\n",
        "\n",
        "def Make_VestaFile(elements, xyz, AtomContributionValues, m, saveResults, threshold):\n",
        "    # Read bonds and colors of all atoms\n",
        "    bonding = []\n",
        "    with open(\"fast-MotEx/utils/Bonding.txt\", 'r') as fi:\n",
        "        for line in fi.readlines():\n",
        "            sep_line=line.strip('{}\\n\\r ').split()\n",
        "            bonding.append(sep_line)\n",
        "    bonding = np.array(bonding)\n",
        "\n",
        "    # Output a Vesta file to visualize the results\n",
        "    Vesta = open(saveResults + '_Vesta.vesta', 'w')\n",
        "\n",
        "    Vesta.write(\"#VESTA_FORMAT_VERSION 3.5.4\\n\\n\\n\")\n",
        "    Vesta.write(\"MOLECULE\\n\\n\")\n",
        "    Vesta.write(\"Title\\n\")\n",
        "    Vesta.write(\"XYZ file\\n\\n\")\n",
        "\n",
        "    Vesta.write(\"STRUC\\n\")\n",
        "    # Assign coordinates to the atoms\n",
        "    for iter, element in enumerate(elements):\n",
        "        Vesta.write(str(iter+1) + \" \" + element + \" \" + element + str(iter+1) + \" 1.0000 \" + str(xyz[iter][0]) + \" \" + str(xyz[iter][1]) + \" \" + str(xyz[iter][2]) + \"1\" + \" -\" + \"\\n\")\n",
        "        Vesta.write(\"0 0 0 0\\n\")\n",
        "    Vesta.write(\"  0 0 0 0 0 0 0\\n\")\n",
        "\n",
        "    Vesta.write(\"SBOND\\n\")\n",
        "    # Assign bonds between the atoms\n",
        "    unique_elements = np.unique(elements)\n",
        "    for iter, element1 in enumerate(unique_elements):\n",
        "      for iter, element2 in enumerate(unique_elements):\n",
        "        if not element1 == element2:\n",
        "          Vesta.write(str(iter+1) + \" \" + element1 + \" \" + element2 + \" 0.0 \" + str(threshold) + \" 0 1 1 0 1 0.25 2 127 127 127\\n\")\n",
        "          Vesta.write(\"0 0 0 0\\n\")\n",
        "    \n",
        "    Vesta.write(\"SITET\\n\")\n",
        "    # Assign colors to all the atoms\n",
        "    for iter, element in enumerate(elements):\n",
        "        if iter < NumW:\n",
        "            rgb1 = int(m.to_rgba(AtomContributionValues[iter])[:-1][0]*255)\n",
        "            rgb2 = int(m.to_rgba(AtomContributionValues[iter])[:-1][1]*255)\n",
        "            rgb3 = int(m.to_rgba(AtomContributionValues[iter])[:-1][2]*255)\n",
        "            Vesta.write(str(iter+1) + \" \" + element + str(iter+1) + \" \" + bonding[np.where(bonding == element)[0][0], 1] + \" \" + str(rgb1) + \" \" + str(rgb2) + \" \" + str(rgb3) + \" \" + str(rgb1) + \" \" + str(rgb2) + \" \" + str(rgb3) + \" 204 0\\n\")\n",
        "        else:\n",
        "            rgb1 = int(float(bonding[np.where(bonding == element)[0][0], 2])*255)\n",
        "            rgb2 = int(float(bonding[np.where(bonding == element)[0][0], 3])*255)\n",
        "            rgb3 = int(float(bonding[np.where(bonding == element)[0][0], 4])*255)\n",
        "            Vesta.write(str(iter+1) + \" \" + element + str(iter+1) + \" \" + bonding[np.where(bonding == element)[0][0], 1] + \" \" + str(rgb1) + \" \" + str(rgb2) + \" \" + str(rgb3) + \" \" + str(rgb1) + \" \" + str(rgb2) + \" \" + str(rgb3) + \" 204 0\\n\")\n",
        "    Vesta.write(\"0 0 0 0 0 0\\n\")\n",
        "    \n",
        "    Vesta.write(\"ATOMT\\n\")\n",
        "    done_deal_atoms = []\n",
        "    for iter, element in enumerate(elements):\n",
        "      if element not in done_deal_atoms:\n",
        "        rgb1 = int(float(bonding[np.where(bonding == element)[0][0], 2])*255)\n",
        "        rgb2 = int(float(bonding[np.where(bonding == element)[0][0], 3])*255)\n",
        "        rgb3 = int(float(bonding[np.where(bonding == element)[0][0], 4])*255)\n",
        "        Vesta.write(str(iter+1) + \" \" + element + \" \" + bonding[np.where(bonding == element)[0][0], 1] + \" \" + str(rgb1) + \" \" + str(rgb2) + \" \" + str(rgb3) + \" \" + str(rgb1) + \" \" + str(rgb2) + \" \" + str(rgb3) + \" 204\\n\")\n",
        "        done_deal_atoms.append(element)\n",
        "    Vesta.write(\"0 0 0 0 0 0\\n\")\n",
        "\n",
        "    Vesta.close()\n",
        "    \n",
        "    return None\n"
      ],
      "metadata": {
        "id": "ZTph_lVGc0r5"
      },
      "execution_count": 13,
      "outputs": []
    },
    {
      "cell_type": "markdown",
      "source": [
        "# Define variables"
      ],
      "metadata": {
        "id": "kYI192OwiNwq"
      }
    },
    {
      "cell_type": "code",
      "source": [
        "starting_model = list(files.upload())[0] # Name of the starting model file\n",
        "StemName = list(files.upload())[0][:-3] # Upload PDF(s) from local computer\n",
        "threshold = 2.6 # Longest bond distance between the metal and oxygen atom\n",
        "allowed_atoms = [\"W\"] # The atoms that should be permuted, can be multiple atoms\n",
        "atom_ph, Qmin, Qmax, Qdamp, rmin, rmax = \"W\", 0.7, 20, 0.05, 1.6, 10\n",
        "#atom_ph, Qmin, Qmax, Qdamp, rmin, rmax = \"Mo\", 0.5, 24, 0.04, 3, 12\n"
      ],
      "metadata": {
        "id": "ZZDnsIkpiLIV",
        "outputId": "f3a1dc89-2c50-4b3a-8340-f6f75bcd0237",
        "colab": {
          "resources": {
            "http://localhost:8080/nbextensions/google.colab/files.js": {
              "data": "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",
              "ok": true,
              "headers": [
                [
                  "content-type",
                  "application/javascript"
                ]
              ],
              "status": 200,
              "status_text": ""
            }
          },
          "base_uri": "https://localhost:8080/",
          "height": 128
        }
      },
      "execution_count": 5,
      "outputs": [
        {
          "output_type": "display_data",
          "data": {
            "text/plain": [
              "<IPython.core.display.HTML object>"
            ],
            "text/html": [
              "\n",
              "     <input type=\"file\" id=\"files-7862fba3-10b3-4015-b0c8-ad4dc412a6c0\" name=\"files[]\" multiple disabled\n",
              "        style=\"border:none\" />\n",
              "     <output id=\"result-7862fba3-10b3-4015-b0c8-ad4dc412a6c0\">\n",
              "      Upload widget is only available when the cell has been executed in the\n",
              "      current browser session. Please rerun this cell to enable.\n",
              "      </output>\n",
              "      <script src=\"/nbextensions/google.colab/files.js\"></script> "
            ]
          },
          "metadata": {}
        },
        {
          "output_type": "stream",
          "name": "stdout",
          "text": [
            "Saving 109725.xyz to 109725.xyz\n"
          ]
        },
        {
          "output_type": "display_data",
          "data": {
            "text/plain": [
              "<IPython.core.display.HTML object>"
            ],
            "text/html": [
              "\n",
              "     <input type=\"file\" id=\"files-c69e498c-4269-4c72-aed6-09d807895bdc\" name=\"files[]\" multiple disabled\n",
              "        style=\"border:none\" />\n",
              "     <output id=\"result-c69e498c-4269-4c72-aed6-09d807895bdc\">\n",
              "      Upload widget is only available when the cell has been executed in the\n",
              "      current browser session. Please rerun this cell to enable.\n",
              "      </output>\n",
              "      <script src=\"/nbextensions/google.colab/files.js\"></script> "
            ]
          },
          "metadata": {}
        },
        {
          "output_type": "stream",
          "name": "stdout",
          "text": [
            "Saving DanMAX_AlphaKeggin_nyquist.gr to DanMAX_AlphaKeggin_nyquist.gr\n"
          ]
        }
      ]
    },
    {
      "cell_type": "markdown",
      "source": [
        "# Run"
      ],
      "metadata": {
        "id": "Kz4pl8PZiQKz"
      }
    },
    {
      "cell_type": "code",
      "source": [
        "saveResults = \"./\"\n",
        "start_time = time.time()\n",
        "\n",
        "# Step 1: Make the structure catalogue\n",
        "NumMo = format_XYZ(starting_model, allowed_atoms) # Format the starting model and calculate then number of atoms that should be permuted in the starting model\n",
        "structure_catalogue = structure_catalogue_maker(Number_of_atoms=NumMo)\n",
        "print (\"Catalogue maker: \", time.time() - start_time)\n",
        "\n",
        "# Step 2: Fit all of the structures from the catalogue of structure motifs to the dataset\n",
        "### First define the experimental data path and the path you want the structure catalogue with fits to be saved\n",
        "Experimental_Data = StemName+\".gr\" # Name of the experimental file\n",
        "saveFits = StemName+\".txt\" # Name of the saved fits file\n",
        "\n",
        "# Load data and start model\n",
        "Exp_r, Exp_Gr, elements, xyz = Load(Experimental_Data, starting_model)\n",
        "print (\"Data loader: \", time.time() - start_time)\n",
        "\n",
        "### Produce organized structure catalogue with Rwp values\n",
        "Result = fitting_multiprocess(structure_catalogue, xyz, atom_ph, Qmin, Qmax, Qdamp, rmin, rmax, SaveName=saveFits, cores=None)\n",
        "print (\"Getting results: \", time.time() - start_time)\n",
        "\n",
        "# Step 4: Calculate Atom Contribution values\n",
        "m, AtomContributionValues = calculate_atomContributionValue(Result, saveResults)\n",
        "print (\"Calculating atom contribution values: \", time.time() - start_time)\n",
        "\n",
        "Make_CrystalMakerFile(elements, xyz, AtomContributionValues, m, StemName, threshold)\n",
        "Make_VestaFile(elements, xyz, AtomContributionValues, m, StemName, threshold)\n",
        "print (\"Output a CrystalMaker file: \", time.time() - start_time)\n",
        "\n",
        "print (time.time() - start_time, \" s\")\n"
      ],
      "metadata": {
        "colab": {
          "base_uri": "https://localhost:8080/"
        },
        "id": "La5rMFNsiQVx",
        "outputId": "3a17ac4d-9d3b-4510-884f-9bf732faf172"
      },
      "execution_count": 14,
      "outputs": [
        {
          "output_type": "stream",
          "name": "stdout",
          "text": [
            "Catalogue maker:  0.006275653839111328\n",
            "Data loader:  0.37058568000793457\n",
            "I have now fitted:  0 structures out of 24\n",
            "Getting results:  9.955245733261108\n",
            "Calculating atom contribution values:  9.963000059127808\n",
            "Output a CrystalMaker file:  10.002787351608276\n",
            "10.003013372421265  s\n"
          ]
        }
      ]
    },
    {
      "cell_type": "markdown",
      "source": [
        "## Download results"
      ],
      "metadata": {
        "id": "4Hi1V86wjcgx"
      }
    },
    {
      "cell_type": "code",
      "source": [
        "# Download the latest results\n",
        "files.download(StemName + '_CrystalMaker.cmtx')\n",
        "files.download(StemName + '_Vesta.vesta')"
      ],
      "metadata": {
        "colab": {
          "base_uri": "https://localhost:8080/",
          "height": 17
        },
        "id": "7LHJ3nXRiTcs",
        "outputId": "64cccf77-3d17-47cd-8a3f-059d3227ebbf"
      },
      "execution_count": 15,
      "outputs": [
        {
          "output_type": "display_data",
          "data": {
            "text/plain": [
              "<IPython.core.display.Javascript object>"
            ],
            "application/javascript": [
              "\n",
              "    async function download(id, filename, size) {\n",
              "      if (!google.colab.kernel.accessAllowed) {\n",
              "        return;\n",
              "      }\n",
              "      const div = document.createElement('div');\n",
              "      const label = document.createElement('label');\n",
              "      label.textContent = `Downloading \"${filename}\": `;\n",
              "      div.appendChild(label);\n",
              "      const progress = document.createElement('progress');\n",
              "      progress.max = size;\n",
              "      div.appendChild(progress);\n",
              "      document.body.appendChild(div);\n",
              "\n",
              "      const buffers = [];\n",
              "      let downloaded = 0;\n",
              "\n",
              "      const channel = await google.colab.kernel.comms.open(id);\n",
              "      // Send a message to notify the kernel that we're ready.\n",
              "      channel.send({})\n",
              "\n",
              "      for await (const message of channel.messages) {\n",
              "        // Send a message to notify the kernel that we're ready.\n",
              "        channel.send({})\n",
              "        if (message.buffers) {\n",
              "          for (const buffer of message.buffers) {\n",
              "            buffers.push(buffer);\n",
              "            downloaded += buffer.byteLength;\n",
              "            progress.value = downloaded;\n",
              "          }\n",
              "        }\n",
              "      }\n",
              "      const blob = new Blob(buffers, {type: 'application/binary'});\n",
              "      const a = document.createElement('a');\n",
              "      a.href = window.URL.createObjectURL(blob);\n",
              "      a.download = filename;\n",
              "      div.appendChild(a);\n",
              "      a.click();\n",
              "      div.remove();\n",
              "    }\n",
              "  "
            ]
          },
          "metadata": {}
        },
        {
          "output_type": "display_data",
          "data": {
            "text/plain": [
              "<IPython.core.display.Javascript object>"
            ],
            "application/javascript": [
              "download(\"download_fa9378bd-e076-48ba-8882-70c24a24aa09\", \"DanMAX_AlphaKeggin_nyquist_CrystalMaker.cmtx\", 6305)"
            ]
          },
          "metadata": {}
        },
        {
          "output_type": "display_data",
          "data": {
            "text/plain": [
              "<IPython.core.display.Javascript object>"
            ],
            "application/javascript": [
              "\n",
              "    async function download(id, filename, size) {\n",
              "      if (!google.colab.kernel.accessAllowed) {\n",
              "        return;\n",
              "      }\n",
              "      const div = document.createElement('div');\n",
              "      const label = document.createElement('label');\n",
              "      label.textContent = `Downloading \"${filename}\": `;\n",
              "      div.appendChild(label);\n",
              "      const progress = document.createElement('progress');\n",
              "      progress.max = size;\n",
              "      div.appendChild(progress);\n",
              "      document.body.appendChild(div);\n",
              "\n",
              "      const buffers = [];\n",
              "      let downloaded = 0;\n",
              "\n",
              "      const channel = await google.colab.kernel.comms.open(id);\n",
              "      // Send a message to notify the kernel that we're ready.\n",
              "      channel.send({})\n",
              "\n",
              "      for await (const message of channel.messages) {\n",
              "        // Send a message to notify the kernel that we're ready.\n",
              "        channel.send({})\n",
              "        if (message.buffers) {\n",
              "          for (const buffer of message.buffers) {\n",
              "            buffers.push(buffer);\n",
              "            downloaded += buffer.byteLength;\n",
              "            progress.value = downloaded;\n",
              "          }\n",
              "        }\n",
              "      }\n",
              "      const blob = new Blob(buffers, {type: 'application/binary'});\n",
              "      const a = document.createElement('a');\n",
              "      a.href = window.URL.createObjectURL(blob);\n",
              "      a.download = filename;\n",
              "      div.appendChild(a);\n",
              "      a.click();\n",
              "      div.remove();\n",
              "    }\n",
              "  "
            ]
          },
          "metadata": {}
        },
        {
          "output_type": "display_data",
          "data": {
            "text/plain": [
              "<IPython.core.display.Javascript object>"
            ],
            "application/javascript": [
              "download(\"download_c7340c8e-9fcc-4832-afa5-1017f2068ee4\", \"DanMAX_AlphaKeggin_nyquist_Vesta.vesta\", 9671)"
            ]
          },
          "metadata": {}
        }
      ]
    },
    {
      "cell_type": "code",
      "source": [
        ""
      ],
      "metadata": {
        "id": "5XXWPYNQoBRe"
      },
      "execution_count": null,
      "outputs": []
    }
  ]
}